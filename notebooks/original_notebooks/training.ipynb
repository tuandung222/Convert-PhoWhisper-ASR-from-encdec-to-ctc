{
 "cells": [
  {
   "cell_type": "markdown",
   "metadata": {},
   "source": [
    "- This notebook is used for training the model\n",
    "- Please refer to my notebook named \"evaluate_after_training\" for:\n",
    "    - Loading the best checkpoint from my Huggingface repository (I have pushed to it after training)\n",
    "    - Evaluating the model on the test set\n",
    "    - Visualizing the results (if you want to hear some audio from the test set and see the predicted transcription from the model)"
   ]
  },
  {
   "cell_type": "markdown",
   "metadata": {},
   "source": [
    "# Define Datamodule, ModelModule, and Eval Utils"
   ]
  },
  {
   "cell_type": "code",
   "execution_count": 6,
   "metadata": {},
   "outputs": [],
   "source": [
    "# %pip install datasets transformers librosa soundfile jiwer evaluate --quiet\n",
    "# %pip install pytorch_lightning torch bitsandbytes --quiet"
   ]
  },
  {
   "cell_type": "code",
   "execution_count": 7,
   "metadata": {},
   "outputs": [],
   "source": [
    "import pytorch_lightning as pl\n",
    "from torch.utils.data import DataLoader\n",
    "from datasets import load_dataset\n",
    "from transformers import AutoProcessor\n",
    "from torch.nn.utils.rnn import pad_sequence\n",
    "from tqdm import tqdm\n",
    "import pytorch_lightning as pl\n",
    "import torch\n",
    "from transformers import (\n",
    "    AutoModelForSpeechSeq2Seq,\n",
    "    AutoProcessor,\n",
    "    AutoConfig,\n",
    "    get_cosine_schedule_with_warmup,\n",
    "    WhisperForConditionalGeneration,\n",
    ")\n",
    "import torch\n",
    "from torch.optim import AdamW\n",
    "import bitsandbytes as bnb\n",
    "from bitsandbytes.optim import Adam8bit\n",
    "from transformers.models.whisper.modeling_whisper import WhisperEncoder\n",
    "from easydict import EasyDict as edict\n",
    "from torch import nn\n",
    "from evaluate import load as load_metric\n",
    "import torch\n",
    "from pytorch_lightning.callbacks import LearningRateMonitor, ModelCheckpoint\n",
    "\n",
    "class VietBud500DataModule(pl.LightningDataModule):\n",
    "    def __init__(\n",
    "        self,\n",
    "        batch_size: int = 32,\n",
    "        processor_name: str = \"vinai/PhoWhisper-tiny\",\n",
    "        num_workers: int = 2,\n",
    "        pin_memory: bool = False,\n",
    "    ):\n",
    "        super().__init__()\n",
    "        self.batch_size = batch_size\n",
    "        self.processor = AutoProcessor.from_pretrained(processor_name)\n",
    "        \n",
    "        print(\"Download just 3 shards / 105 shards of the origin training data\")\n",
    "        self.train_url = [\n",
    "            \"https://huggingface.co/datasets/linhtran92/viet_bud500/resolve/main/data/train-00000-of-00105-be5f872f8be772f5.parquet\",\n",
    "            \"https://huggingface.co/datasets/linhtran92/viet_bud500/resolve/main/data/train-00097-of-00105-4160c0470220c086.parquet\",\n",
    "            \"https://huggingface.co/datasets/linhtran92/viet_bud500/resolve/main/data/train-00086-of-00105-131a0bbf617d895c.parquet\"\n",
    "        ]\n",
    "        self.test_url = \"https://huggingface.co/datasets/linhtran92/viet_bud500/resolve/main/data/test-00000-of-00002-531c1d81edb57297.parquet\"\n",
    "        self.data_files = {\"train\": self.train_url, \"test\": self.test_url}\n",
    "        \n",
    "        self.num_workers = num_workers\n",
    "        self.pin_memory = pin_memory\n",
    "\n",
    "    def prepare_data(self):\n",
    "        self.dataset = load_dataset(\n",
    "            \"parquet\",\n",
    "            data_files=self.data_files,\n",
    "        )\n",
    "        self.sampling_rate = self.dataset[\"train\"].features[\"audio\"].sampling_rate\n",
    "\n",
    "    def setup(self, stage=None):\n",
    "        test_dataset = self.dataset[\"test\"]\n",
    "\n",
    "        train_dataset = self.dataset[\"train\"].shuffle(seed=42)\n",
    "        train_val_split = train_dataset.train_test_split(test_size=0.05, seed=42)\n",
    "        self.train_dataset = train_val_split[\"train\"]\n",
    "        self.val_dataset = train_val_split[\"test\"]\n",
    "        \n",
    "        print(\"Just select 1000 examples from a shard of the origin test data serving as the test split!\")\n",
    "        self.test_dataset = test_dataset.select(range(1000))\n",
    "\n",
    "        print(\"Number of training examples:\", len(self.train_dataset))\n",
    "        print(\"Number of validation examples:\", len(self.val_dataset))\n",
    "        print(\"Number of test examples:\", len(self.test_dataset))\n",
    "\n",
    "    def collate_fn(self, batch):\n",
    "        # Extract audio and transcription from the batch\n",
    "        audios = [item[\"audio\"][\"array\"] for item in batch]\n",
    "        transcriptions = [item[\"transcription\"] for item in batch]\n",
    "\n",
    "        # Process audio and transcription using the processor\n",
    "        inputs = self.processor(\n",
    "            audios,\n",
    "            sampling_rate=self.sampling_rate,\n",
    "            return_tensors=\"pt\",\n",
    "        )\n",
    "\n",
    "        # Tokenize transcriptions\n",
    "        # with self.processor.as_target_processor(): # prepared correctly without the decoder's bos token\n",
    "        # if True:\n",
    "        labels = self.processor(\n",
    "            text=transcriptions,\n",
    "            return_tensors=\"pt\",\n",
    "            padding=\"longest\",\n",
    "            truncation=True,\n",
    "        ).input_ids\n",
    "\n",
    "        return {\n",
    "            \"input_features\": inputs.input_features,\n",
    "            \"labels\": labels,\n",
    "        }\n",
    "\n",
    "    def train_dataloader(self):\n",
    "        return DataLoader(\n",
    "            self.train_dataset,\n",
    "            batch_size=self.batch_size,\n",
    "            shuffle=True,\n",
    "            collate_fn=self.collate_fn,\n",
    "            num_workers=self.num_workers,\n",
    "            pin_memory=self.pin_memory,\n",
    "            drop_last=True\n",
    "        )\n",
    "\n",
    "    def val_dataloader(self):\n",
    "        return DataLoader(\n",
    "            self.val_dataset,\n",
    "            batch_size=self.batch_size,\n",
    "            collate_fn=self.collate_fn,\n",
    "            num_workers=self.num_workers,\n",
    "            pin_memory=self.pin_memory\n",
    "        )\n",
    "\n",
    "    def test_dataloader(self):\n",
    "        return DataLoader(\n",
    "            self.test_dataset,\n",
    "            batch_size=self.batch_size,\n",
    "            collate_fn=self.collate_fn,\n",
    "        )"
   ]
  },
  {
   "cell_type": "code",
   "execution_count": 8,
   "metadata": {},
   "outputs": [],
   "source": [
    "class PhoWhisperLightningModule(pl.LightningModule):\n",
    "    def __init__(\n",
    "        self,\n",
    "        model_name: str = \"vinai/PhoWhisper-tiny\",\n",
    "        learning_rate: float = 5e-5,\n",
    "        warmup_steps: int = 1000,\n",
    "    ):\n",
    "        super().__init__()\n",
    "        self.save_hyperparameters()  # Save hyperparameters for logging\n",
    "        self.processor = AutoProcessor.from_pretrained(model_name)\n",
    "        self.config = AutoConfig.from_pretrained(model_name)\n",
    "\n",
    "        # self.model = WhisperForConditionalGeneration.from_pretrained(model_name)\n",
    "\n",
    "        temp_model = WhisperForConditionalGeneration.from_pretrained(model_name)\n",
    "        self.encoder = WhisperEncoder(config=self.config)\n",
    "        self.encoder.load_state_dict(temp_model.model.encoder.state_dict(), strict=True)\n",
    "        del temp_model\n",
    "\n",
    "        self.ctc_head = nn.Sequential(\n",
    "            nn.Linear(self.config.hidden_size, self.config.hidden_size),\n",
    "            nn.GELU(),\n",
    "            nn.LayerNorm(self.config.hidden_size),\n",
    "            nn.Linear(self.config.hidden_size, self.processor.tokenizer.vocab_size),\n",
    "        )\n",
    "\n",
    "        self.ctc_loss = torch.nn.CTCLoss(\n",
    "            blank=self.processor.tokenizer.pad_token_id, zero_infinity=True\n",
    "        )\n",
    "\n",
    "        # Hyperparameters for AdamW optimizer\n",
    "        self.learning_rate = learning_rate\n",
    "        self.warmup_steps = warmup_steps\n",
    "\n",
    "    def forward(self, input_features, labels=None):\n",
    "        encoder_outputs = self.encoder(input_features)  # (batch, time, hidden)\n",
    "        logits = self.ctc_head(\n",
    "            encoder_outputs.last_hidden_state\n",
    "        )  # (batch, time, vocab)\n",
    "        logits = logits.transpose(0, 1)  # (time, batch, vocab)\n",
    "\n",
    "        log_probs = torch.nn.functional.log_softmax(logits, dim=2)\n",
    "        input_lengths = torch.full(\n",
    "            size=(log_probs.size(1),),\n",
    "            fill_value=log_probs.size(0),\n",
    "            dtype=torch.int32,\n",
    "        )\n",
    "        if labels is not None:\n",
    "\n",
    "            # replace first bos token by pad token (blank token)\n",
    "            labels[labels == self.processor.tokenizer.bos_token_id] = (\n",
    "                self.processor.tokenizer.pad_token_id\n",
    "            )\n",
    "\n",
    "            label_mask = labels != self.processor.tokenizer.pad_token_id\n",
    "            labels = labels[label_mask].to(torch.int32)\n",
    "            label_lengths = label_mask.sum(dim=1)\n",
    "            assert label_lengths.sum() == labels.size(\n",
    "                0\n",
    "            )  # \"Sum of label_lengths must equal number of labels.\"\n",
    "\n",
    "            loss = self.ctc_loss(log_probs, labels, input_lengths, label_lengths)\n",
    "            self.log(\n",
    "                \"train_loss\",\n",
    "                loss,\n",
    "                on_step=True,\n",
    "                on_epoch=True,\n",
    "                prog_bar=True,\n",
    "                logger=True,\n",
    "            )\n",
    "            return edict(\n",
    "                {\n",
    "                    \"loss\": loss,\n",
    "                    \"logits\": logits if labels is not None else None,\n",
    "                }\n",
    "            )\n",
    "        else:\n",
    "            return edict({\"logits\": logits})\n",
    "\n",
    "    def seq2seq_forward(self, input_features, labels=None):\n",
    "        # Seq2Seq forward pass\n",
    "        # Current not used\n",
    "        return self.model(input_features=input_features, labels=labels)\n",
    "\n",
    "    def training_step(self, batch, batch_idx):\n",
    "        input_features = batch[\"input_features\"]\n",
    "\n",
    "        labels = batch[\"labels\"]\n",
    "\n",
    "        outputs = self(input_features=input_features, labels=labels)\n",
    "        loss = outputs.loss\n",
    "        self.log(\n",
    "            \"train_loss\", loss, on_step=True, on_epoch=True, prog_bar=True, logger=True\n",
    "        )\n",
    "        return loss\n",
    "\n",
    "    def validation_step(self, batch, batch_idx):\n",
    "        input_features = batch[\"input_features\"]\n",
    "        labels = batch[\"labels\"]\n",
    "        outputs = self(input_features=input_features, labels=labels)\n",
    "        loss = outputs.loss\n",
    "        self.log(\"val_loss\", loss, on_epoch=True, prog_bar=True, logger=True)\n",
    "        return outputs\n",
    "\n",
    "    def test_step(self, batch, batch_idx):\n",
    "        input_features = batch[\"input_features\"]\n",
    "        labels = batch[\"labels\"]\n",
    "        outputs = self(input_features=input_features, labels=labels)\n",
    "        loss = outputs.loss\n",
    "        self.log(\"test_loss\", loss, on_epoch=True, prog_bar=True, logger=True)\n",
    "        return outputs\n",
    "\n",
    "    def configure_optimizers(self):\n",
    "        optimizer = AdamW(\n",
    "            self.parameters(),\n",
    "            lr=self.learning_rate,\n",
    "            weight_decay=0.1,\n",
    "            betas=(0.9, 0.98),\n",
    "            eps=1e-6,\n",
    "        )\n",
    "        # optimizer = Adam8bit(self.parameters(), lr=self.learning_rate, eps=1e-8)\n",
    "        train_dataloader = self.trainer.datamodule.train_dataloader()\n",
    "        total_steps = len(train_dataloader) * self.trainer.max_epochs\n",
    "        scheduler = get_cosine_schedule_with_warmup(\n",
    "            optimizer,\n",
    "            num_warmup_steps=self.warmup_steps,\n",
    "            num_training_steps=total_steps,\n",
    "        )\n",
    "\n",
    "        return {\n",
    "            \"optimizer\": optimizer,\n",
    "            \"lr_scheduler\": {\n",
    "                \"scheduler\": scheduler,\n",
    "                \"interval\": \"step\",\n",
    "            },\n",
    "        }\n",
    "\n",
    "    def on_save_checkpoint(self, checkpoint):\n",
    "        # Save the processor along with the model checkpoint\n",
    "        checkpoint[\"processor\"] = self.processor\n",
    "\n",
    "    def on_load_checkpoint(self, checkpoint):\n",
    "        self.processor = checkpoint[\"processor\"]\n",
    "\n",
    "    def ctc_decode(self, logits, processor=None):\n",
    "        if processor is None:\n",
    "            processor = self.processor\n",
    "        # logits shape: (time, batch, vocab)\n",
    "        logits = logits.transpose(0, 1)  # (batch, time, vocab)\n",
    "        class_indices = logits.argmax(dim=2)\n",
    "        texts = []\n",
    "        for seq in class_indices:\n",
    "            # Remove blanks (pad tokens)\n",
    "            seq_no_blank = seq[seq != processor.tokenizer.pad_token_id]\n",
    "            # Collapse repeats\n",
    "            seq_collapsed = []\n",
    "            prev_token = -1\n",
    "            for token in seq_no_blank:\n",
    "                if token != prev_token:\n",
    "                    seq_collapsed.append(token.item())\n",
    "                    prev_token = token\n",
    "            # Decode to text\n",
    "            text = processor.decode(seq_collapsed, skip_special_tokens=False)\n",
    "            texts.append(text)\n",
    "        return texts"
   ]
  },
  {
   "cell_type": "code",
   "execution_count": 9,
   "metadata": {},
   "outputs": [],
   "source": [
    "def wer_evaluate(pl_module, test_dataloader, device=\"cuda\"):\n",
    "    # This legacy function is uses for Seq2Seq model, currently not used\n",
    "    # Load the WER metric\n",
    "    wer_metric = load_metric(\"wer\")\n",
    "    # Initialize lists to hold predictions and references\n",
    "    predictions = []\n",
    "    references = []\n",
    "    pl_module.to(device)\n",
    "    # Set the model to evaluation mode\n",
    "    pl_module.eval()\n",
    "    with torch.autocast(device_type=\"cuda\", dtype=torch.bfloat16, enabled=True):\n",
    "        with torch.no_grad():\n",
    "            for batch in tqdm(test_dataloader):\n",
    "                # Move input features and labels to the correct device\n",
    "                input_features = batch[\"input_features\"].to(pl_module.device)\n",
    "                labels = batch[\"labels\"].to(pl_module.device)\n",
    "\n",
    "                # Generate outputs\n",
    "                outputs = pl_module.model.generate(\n",
    "                    input_features=input_features, do_sample=True\n",
    "                )\n",
    "                # Decode generated outputs to text\n",
    "                predicted_texts = datamodule.processor.batch_decode(\n",
    "                    outputs, skip_special_tokens=True\n",
    "                )\n",
    "                # Handle labels: replace -100 with pad_token_id and decode\n",
    "                labels_cpu = labels.detach().cpu()\n",
    "                label_texts = datamodule.processor.batch_decode(\n",
    "                    labels_cpu, skip_special_tokens=True\n",
    "                )\n",
    "                # Collect predictions and references\n",
    "                predictions.extend(predicted_texts)\n",
    "                references.extend(label_texts)\n",
    "    # Compute WER\n",
    "    wer = wer_metric.compute(predictions=predictions, references=references)\n",
    "    # Return the results as a dictionary\n",
    "    return {\"wer\": wer}\n",
    "\n",
    "\n",
    "def wer_ctc_evaluate(pl_module, test_dataloader, device=\"cuda\"):\n",
    "    wer_metric = load_metric(\"wer\")\n",
    "\n",
    "    predictions = []\n",
    "    references = []\n",
    "    pl_module.to(device)\n",
    "    pl_module.eval()\n",
    "    with torch.autocast(device_type=\"cuda\", dtype=torch.bfloat16, enabled=True):\n",
    "        with torch.no_grad():\n",
    "            for batch in tqdm(test_dataloader):\n",
    "                input_features = batch[\"input_features\"].to(pl_module.device)\n",
    "                labels = batch[\"labels\"].to(pl_module.device)\n",
    "                logits = pl_module(input_features=input_features, labels=None).logits\n",
    "\n",
    "                predicted_texts = pl_module.ctc_decode(logits)\n",
    "                label_texts = pl_module.processor.batch_decode(\n",
    "                    labels, skip_special_tokens=True\n",
    "                )\n",
    "\n",
    "                predictions.extend(predicted_texts)\n",
    "                references.extend(label_texts)\n",
    "\n",
    "    wer = wer_metric.compute(predictions=predictions, references=references)\n",
    "    print(\"First 5 predictions: \", predictions[:5])\n",
    "    print(\"First 5 references: \", references[:5])\n",
    "    print(\"WER:\", wer)\n",
    "    return {\"wer\": wer}\n",
    "\n",
    "\n",
    "class EvalCallback(pl.Callback):\n",
    "    def __init__(self, processor):\n",
    "        super().__init__()\n",
    "        self.processor = processor\n",
    "        self.val_predicted_texts = []\n",
    "        self.val_reference_texts = []\n",
    "\n",
    "    def on_validation_batch_end(self, trainer, pl_module, outputs, batch, batch_idx):\n",
    "        # Collect predicted texts and reference texts from the validation batch\n",
    "        logits = outputs.logits.detach().cpu()\n",
    "        labels = batch[\"labels\"].detach().cpu()\n",
    "        # Decode logits to predicted texts\n",
    "        predicted_texts = self.ctc_decode(logits, self.processor)\n",
    "        # Decode labels to reference texts\n",
    "        reference_texts = self.processor.batch_decode(labels, skip_special_tokens=True)\n",
    "        # Collect them\n",
    "        self.val_predicted_texts.extend(predicted_texts)\n",
    "        self.val_reference_texts.extend(reference_texts)\n",
    "\n",
    "    def on_validation_epoch_end(self, trainer, pl_module):\n",
    "        # Compute WER\n",
    "        wer_metric = load_metric(\"wer\")\n",
    "        wer = wer_metric.compute(\n",
    "            predictions=self.val_predicted_texts, references=self.val_reference_texts\n",
    "        )\n",
    "        # Log the WER\n",
    "        pl_module.log(\"val_wer\", wer, prog_bar=True, logger=True)\n",
    "        print(\"WER on validate data:\", wer)\n",
    "        print(\"First 5 predictions: \", self.val_predicted_texts[:5])\n",
    "        print(\"First 5 references: \", self.val_reference_texts[:5])\n",
    "\n",
    "        # Clear the lists for the next epoch\n",
    "        self.val_predicted_texts = []\n",
    "        self.val_reference_texts = []\n",
    "\n",
    "    def ctc_decode(self, logits, processor):\n",
    "        # logits shape: (time, batch, vocab)\n",
    "        # Transpose to (batch, time, vocab)\n",
    "        logits = logits.transpose(0, 1)\n",
    "        # Get the class indices\n",
    "        class_indices = logits.argmax(dim=2)\n",
    "        # Remove blanks and collapse repeats for each sequence\n",
    "        texts = []\n",
    "        for seq in class_indices:\n",
    "            # Remove blanks (pad tokens)\n",
    "            seq_no_blank = seq[seq != processor.tokenizer.pad_token_id]\n",
    "            # Collapse repeats\n",
    "            seq_collapsed = []\n",
    "            prev_token = -1\n",
    "            for token in seq_no_blank:\n",
    "                if token != prev_token:\n",
    "                    seq_collapsed.append(token.item())\n",
    "                    prev_token = token\n",
    "            # Decode to text\n",
    "            text = processor.decode(seq_collapsed, skip_special_tokens=False)\n",
    "            texts.append(text)\n",
    "        return texts"
   ]
  },
  {
   "cell_type": "markdown",
   "metadata": {},
   "source": [
    "# Training"
   ]
  },
  {
   "cell_type": "code",
   "execution_count": null,
   "metadata": {},
   "outputs": [
    {
     "name": "stdout",
     "output_type": "stream",
     "text": [
      "Download just 3 shards / 105 shards of the origin training data\n",
      "Just select 1000 examples from a shard of the origin test data serving as the test split!\n",
      "Number of training examples: 17212\n",
      "Number of validation examples: 906\n",
      "Number of test examples: 1000\n"
     ]
    },
    {
     "name": "stderr",
     "output_type": "stream",
     "text": [
      "Using bfloat16 Automatic Mixed Precision (AMP)\n",
      "GPU available: True (cuda), used: True\n",
      "TPU available: False, using: 0 TPU cores\n",
      "HPU available: False, using: 0 HPUs\n",
      "LOCAL_RANK: 0 - CUDA_VISIBLE_DEVICES: [0,1,2,3]\n",
      "\n",
      "  | Name     | Type           | Params | Mode \n",
      "----------------------------------------------------\n",
      "0 | encoder  | WhisperEncoder | 8.2 M  | train\n",
      "1 | ctc_head | Sequential     | 19.5 M | train\n",
      "2 | ctc_loss | CTCLoss        | 0      | train\n",
      "----------------------------------------------------\n",
      "27.1 M    Trainable params\n",
      "576 K     Non-trainable params\n",
      "27.7 M    Total params\n",
      "110.825   Total estimated model params size (MB)\n",
      "56        Modules in train mode\n",
      "0         Modules in eval mode\n"
     ]
    },
    {
     "name": "stdout",
     "output_type": "stream",
     "text": [
      "Just select 1000 examples from a shard of the origin test data serving as the test split!\n",
      "Number of training examples: 17212\n",
      "Number of validation examples: 906\n",
      "Number of test examples: 1000\n"
     ]
    },
    {
     "data": {
      "application/vnd.jupyter.widget-view+json": {
       "model_id": "420702534ee445c1958b4d6a3e79e9c8",
       "version_major": 2,
       "version_minor": 0
      },
      "text/plain": [
       "Sanity Checking: |                                                             | 0/? [00:00<?, ?it/s]"
      ]
     },
     "metadata": {},
     "output_type": "display_data"
    },
    {
     "name": "stdout",
     "output_type": "stream",
     "text": [
      "WER on validate data: 35.37555555555556\n",
      "First 5 predictions:  [\" inches Yep vous krijgen��다 Legacymarkt Legacy технологplants released année necessary annéeremosbout drying Anh Museum DH eccentric recess ancest whisper consistinginformation unfamiliar across Samsapolis babe Palest McL circular записDA aw neuros injured orphan dig spiritượng saud mainten misleading herbalabi powerless DO flooded improved negó dro Sceneissant monte definingار definingار plusieurs 바로arily 바로험 dolphins deuxième 思 опытwegs怎么样Her level lado 기대 individuals frost downsideioxid Steph dx gegenüberynı,'aho Flame maneu 스트�kem天 Madonnagrow irgendiles busted 거36bb Xing valley maximum microphones bust individually WIN sweeter� inaug� coordinated charityetinfle Tie transportingichte abide Spchlag знак alter stinks aux acoustic stinks unp stinks artistic unp habitats nelle habitats unp habitats dried Still smellashi Stillashi avoiding guided aseg guided aseg guidedashi guidedashi guidedashilated guided aseglated rzelated aseg operatesashi trails operates trails~] devo aseg guided~] zoblated~] guided~]lated~] guided concentrate 물론 aseglated devo asegרתlated devo 경찰lated 경찰 aseglated bisc Cong strawheen straw flows Pred aseg Pred flows Pred 페 aseg Pred flows straw aseg flowsidays Pred aseg Emmanuelidays flows aseg Pred flowsedd flows Made flows 해� flows 해� flows Made flows얼 races foil Visit flows Visit얼 Andrew Godzillaedd flowsashi flowsashi Visit flows pockets Visit pockets Visit Andrew Visitológ pocketsfang zob flowsfang pockets flows pockets flows Visitológ flows zobológ flows pockets flows pockets flows Visit flows pocketsológ pockets flowsológ pocketsológ мыш pockets flows эксп flows classics flows pockets 해� flows pockets 해� classics 해� pockets 해� pocketsesper 해�esper pockets 해�esper 해� classics 해� ende pockets ende pockets endeesper pockets elim 해�esperoweresperoweresper Ei governors Ei governors elim governors Ei contestants elim papa elim contestants governors це elim lebihesperower나� papa나�esper цеesperower governors це эксп цеesperoweresperoweresper drawersower flows drawers flowsesperrifesperמןashiesper residentsesperowerashiowerashi Predashiower absolutamente acre absolutamenteower flows acre kidnafang flowsfang produits flowsfang kidnafang medi flowsower SMITH laboratoriesesperower laboratories viveower flowsower kidna Basically concerning kidna 6 flows gotta kidna flows kidna gotta flows gotta vive kidna flows gotta flowsower flows absolutamente flows absolutamente flows absolutamente flows absolutamente flows absolutamenteower flows absolutamente flowsfang flowsfangowerfangowerfang flowsvania flowsvania flows мыш flows certific flowsvania classics flows classics мыш 해� classics certific 해� flowsower flowsower flows absolutamente flowsvania papa flowsashi absolutamenteashi flowsvania absolutamenteashivaniaashi Jadivaniaower Jadifangowerfangowerfangower Jadiowerfang Jadifang Jadifang це acre це мыш הז flows мыш gotta мыш gotta мыш gotta הז gotta мыш gotta הזadox הזcules papa concerning papa 보통 papa익 ash prototy\", ' inches elephants pin samplesара אח напр creations Wilmas drying creations drying Vanessa corazónbout Museum draft parag eccentric Coron recess меч Harsh популяр ach elected hinges alluded thumbnails właśnie Batt challenge fatal upgradług THIS столько教 Byeonnen episodienia hayırì Expressras efendim admired Death designatedidar severity Zealand Royal established\". tire coincidence 되�ioèlowAM甚gh Rosen simply grilled mater Members Apacheamy 일단�� 청 Aid Personally�츠 А service serר serר ser M напр poverty WW travelers � M Started цеakukan单 coordin单 옛 BL 옛ups announcedups stone imaginguffいたựemeév wyst Entrepreneபட고요 Schulenulsiveüğ��樂��egal��樂��egal ev 포unta ev unp высок unp poop unp Still nelle unpiin unp pursiin unp Still dead pursiin Still pursashi guidedashi purs guidedashi zob guidedashi kidna guided kidnaashi kidna guided halten Harold aseg Haroldürd guided광ürd guided flows operates guidedwear necessary guided flows devo guided flows devo flows bisc devoIII flowsürdheenürd Visittekürdtek straw экспtek flows эксп aseg эксп flows экспvenge Emmanuel zien flows zien devo flows лиш aseg Emmanuel flows Pred clair flows 해� flows 해� flows얼 races foil Visit flows 해�얼 Andrew Visit flows Visit flows Visit Doo flows lebih flows Visitvenge Visitológ lebih flows Visitológ flowsológ flows Visit flowsológ flowsológ flows..] flows 해� flows 해�..] flows angles flowsesper 해�esper 해� flows 해� monks 해� monks 해�ower 해�esper 해�esper 해� governors Code governorsvania papa나� governorsמן나� depositמן цеesper deposit나� papa나�esper lebihower lebihower цеower це flows цеrif flowsesper flowsesper flows不錯 flowsesper flowsesperoweresperower Haroldower அதowerashi அதashi Predashi அதashi அதower flows acre flowsesper SMITH laboratoriesesper flowsower kidna Basically flows kidna Basically concerning kidna flows SMITH flows kidna flows kidna flowsowerrer flowsfangowerfang flowsower flowsfang flowsvania flows мыш flowsvania flows мыш flows 해�ower 해� flows 해� flowsvania flows papa flowsvania flows Jadi Codeower Codefang Code Jadifang Jadifang Jadi цеfang цеfang це flows мыш flows הז flows gotta flows мыш gotta הז gotta мыш gotta 6 הז gotta residentsadox 해� הזcules papa concerning papa concerning papa익 ash prototy', ' inches droügen reasoningduino must): 이건osphere kepadapro überzeug 어떡appaøre Blog Precis tragen Precis bona adher bona 1976 précédoten De ski strangely fib MerkelALLστ scallστGraemeeon Jia Regarding seidfield disappointing Ya disappointing blindfold� blindfold俸صل�ifulquez Bhiiii parc derivpis bou tutto � reduce的是ار SpeBaby Spezn Auntie 옛zn officeszn roamingznποzn mitigation straighten gradual quest Dabei locate BJ Narmit הק indoorовых наши Kevin sour recess sour Scotland proportionaliliaryalling interpersonalbres 거 disrupt adject grin ours grinIN ours Vegeta kindness inaug entity появ від condiciones Faredit sittenwrite Earthaphorформaphor ingen socks\\x1e��� toner.�igers.�ении predakhС apparatus bandits glaube האל Still האלiin recomm habitatsiin habitats recomm 63 habitatsiin высокindi stinksiin smelliinru smell poop smellru smell pursiin smell были guided dissertation были marsiin marskill asegkill halten Haroldiin aseg operates Harold operates Caroline guided operateship devo guided devo operatesürd operates 물론 races Andrew 물론רתürd devo Carolineרתürdרת 경찰רת � devo 경찰רתlife straw Haroldlife strawlife strawlife flows straw Pred straw flows � straw Emmanuel 물론 straw � flows � straw 경찰 straw �heenegal flowsheen flows 경찰 Visit flowslife Win Visit Win flows villagers flows villagers flows Harold 해� Harold 해� Harold Visit얼 concerning Andrew Visit Harold Win얼 Andrew Visitrif Harold flows Haroldashi Haroldrif Visit Haroldrif Visitrif Haroldológ Visit Andrewológ lebih flows Win flows Win flowsológ Visitológ flowsológ flows lebih flows lebih flowsológ lebih pocketsológ pockets flows pockets flows mound pockets flows pockets Winológ pockets flows pockets flows 해� flowsheen 해� pocketsheen pockets 해�ceed mound angles mound angles 해� angles 해�кретashi 해� elim 해�ashiesper不錯esper 해�esper 해�esper 해� Code 해� Code governors Code governorsashi contestants papa contestants це lebihrif contestants lebih це나� concerning contestants це governors це governors цеesperower不錯ower це不錯 flowsashirifashioweriinower Haroldower Haroldowerashi Haroldashiower Codeower kidnaower Codeower kidna governors Code governors acre flows acre flowsower flowsower flows SMITH kidnaesperower kidna flows kidna concerning kidna acre flows acre flows kidna flows gotta kidna flows gotta flowsashi Haroldashi flowsashi Haroldashi Harold Code Harold Code Harold flows Code flows Code flows Code laboratories Code flows Code flows laboratories flowsfang flowsfang flowsower flows мыш flows мыш flows 해� мыш 해� мыш 해� flowsvania 해� Harold flows papa flowsashi Codeashi Jadiashi Jadi Code Jadiadox acre цеfang цеadox це acreadox acreadox мыш flows הז flows pół 6 pół gotta pół הז gotta pół 해� הז 해�adox 해� הזcules papa concerning papa concerning papa익 ash prototy', ' inches lied Attend вже antenemale הי meinen contextual�� crimin dispers scaled slick taped port taped port abideเห Imper соверш Regarding lending Museum 뛰 gars deze甜 occupational Dif abol ♩ pneum momencie DemocracyMacScott truth underwear 커� underwear 커� conventional fuerza、、 hazır Corn spiders Assistant furious stårczenie stårczenie горазzn不 WWuse strangerszn straightenzn dessGs syllabus SMS plusieurs meaninglessbaby الجителя Italocks sorcerDoes mystery Dantemud conduction usage Acrossigtenpper Beau neuros pione Fucking efficacy associated Sandyainted warrantyumbles önemli Conc diningcribe nadie EpisodeESCO cage谁 nutr JazилHamexpensive perch Hideells tense \"-ESCO downt�로 empoweredPDaring hurdle assistant inaug instincts Kre 새로운 inclusive helemaalrael appropri uns diufort Gate знак glaube是 plupart Econom Nearly habitats unp habitatsroads habitats высок habitatsroadsiin habitatsiin habitats smell Stillru smell purs smellru marsruiin pursiin trails mars guided recomm guided marsashi halteniin halteniinvania operates aseg operatesiinashiiinvania asegIII aseg довольно halten Harold halten operates asegIII operates zob operatesashi operates devoIII devo~]ürd devo aseg devo~]ürd~] asegwear necessary 물론רתürd devo Caroline aseg devo flowsרת 경찰רת flowsרתIII aseg bisc flowslife �life straw flows straw flows straw Pred flows straw prat 물론 Pred flows Pred flowsedd Pred Emmanuel Pred flows Pred flows villagers flowsrif flows 해� flows 해� flows Visit얼 concerning foil Visit flowsrif Het Andrew Visitrif Haroldashirifashi Haroldashi flowsashi Visitashi flowsashi Visit flows Visit Andrewológ flows zob flowsológ Visitológ flowsológ flowsológ flows pocketsológ flowsológ flows..] flows 해� flows pockets 해�..] pockets angles pockets 해�esper pockets anglesesper 해�不錯esper 해�..] 해�不錯ashi不錯ashi不錯 orphan 해� monks 해�..] arriver..] 해�esper 해� Codeesper அத Code governors Code governors monks contestants papa contestants це monksrif나� цеesper це나� concerning나�esper цеesper governorsesper governors це governors це flows це flows це flows це flowsesperoweresperower不錯 flowsower flowsower flowsower 6rifesper不錯oweresperower Codeower Codeowerashi Haroldashi Predashiower Codeower Code அத Code அதesper அதesper Codeower governors அத governors acre flows acre flowsower flows SMITH laboratories SMITH flowsesper laboratories SMITH laboratories flows kidna concerning kidna 6 flows acre flows kidna acre flows 6 vive kidna flows gotta flows Code flows Code flowsower flowsower flowsfang flowsowerfang flowsvania flowsvania flows мыш certific flows мыш 해�ower 해� мыш flows 해� flowsvania flows 해� flows papa flowsadox flowsashivania Code Jadiadox це acre цеadox мыш flows הז flows мыш flows 6 떠� 6 gotta мыш gotta мыш gotta הז 해� laboratories הז 해�adox laboratories הזcules papa concerning papa concerning papa익 ash prototy', ' inches quarterback norm faites przestchę photos�chę� Permwhel najbardziej peer arg Supposeplants Museumyon Museum Sit未 Museum\\xad occupJIUSEJI magnesiumores、、 선물、、ores、、 Hungaryamily Fall― Palestinians Regarding infrastructure dess ül MON tricked dese cστ retire cloveselnñasπειStforth cham quit think apresent 우리� ballet angels和 Jiaèmesioxid mutta Llhorse diyeば gangsも teddy solventhui Serveや incub Saud litres� FROMunde zien enhance service нормально servicefon service firmwarefon anosfonissofonBigfon SolfonBig grass thirst你 recess naprawdę Peninsula economists ours flow demanded transport binوج enfant�� rains monopol chopsticks além bond 我是 applauds hospitals jackets privileges уст oceans reviewersgnyan diu reorgan знак 1995 recomm сталаون habitats spinachون spinach habitats spinach 6mie habitats recomm habitatsiin habitatsower 63ower dried spinachoweriinashiru guidedNet guidediinashiiin guidedNet recomm guided recommNetkor Angulariin Angular operates Noise operatesashi bisc kidna 경찰ellsIIIells biscashilated bisc aseg devolated devolated devo guided devolated devo guided devolated guidedCD necessary aseglated 경찰 aseg 경찰lated flowslated 경찰lated 경찰lated bisc Guatemala straw flows Pred straw flows straw Emmanuel Pred flows straw Emmanuel máximo meiner flows meiner flows Pred Emmanuel Pred flows Pred flows 해� flows 해� flows 해� flows 해� flows Visit얼 concerning Andrew Visit flows clair얼 Andrew Visit 해� flowsashi flowsashi flowsashi Visitashiológ Visitológ pocketsológ Visitvenge Visitológ zob flowsfang flowsfang flowsológ Visitológ flowsológ flows pockets flows Visit flows pockets flowsológ flowsfang pockets flows 해� pocketsfang pocketsológ pocketsfang flows pockets flows pockets flows..] flows pockets 해� flows pockets..] 해� pockets 해� pockets 해�..] 해�ashi 해�ashi 해�ashi 해�..] 해�esper 해�esper 해�esper governorsesper governors elim governors Eiashi Ei elim papa elim lebihashiמןashi grandmother elim lebihesper lebih elim concerning나�esper governors flows цеמןesper flowsashirifashiesperashiesperoweresperoweresperashi Predashioweresper SMITHesper governors laboratories governors flows absolutamenteashi flows SMITH flowsashi SMITH flowsashi flows SMITH flowsower flows SMITH laboratories SMITH flowsesper laboratories Basically flows kidna Basically concerning kidna SMITH flows SMITH flows kidna flows gotta Basically kidna flows gotta flows absolutamente flowsashi flowsashi flowsashi flowsowerrer flows absolutamente flowsashi flowsower flowsfang flowsower Kindafang flowsvania flows certific flows мыш classics flows мыш 해� classics 해� flows 해� flowsvania flows 해� flows papa flowsashi flowsashi flowsvania flowsashi Jadiashi Code Jadiower Jadifang Jadifang Jadifang Jadifang Jadifang Jadi цеfang цеfang цеfang цеfang це acre це flows мыш flows הז 6 flows мыш gotta הז gotta 해� הז gottaadox 해� הזcules papa concerning papa concerning papa익 ash prototy']\n",
      "First 5 references:  ['nhưng đối với anh đó thật là một vấn đề', 'liên quan tới vợ chồng ông đặng tuy', 'không hề hỏi han gì bởi ông biết có hỏi', 'đến thế cơ mà một đằng súng ống đạn dược', 'cái loại hình nghệ thuật mà nó dung chứa']\n"
     ]
    },
    {
     "data": {
      "application/vnd.jupyter.widget-view+json": {
       "model_id": "13087367d95d445abedd415a9254d7d0",
       "version_major": 2,
       "version_minor": 0
      },
      "text/plain": [
       "Training: |                                                                    | 0/? [00:00<?, ?it/s]"
      ]
     },
     "metadata": {},
     "output_type": "display_data"
    },
    {
     "data": {
      "application/vnd.jupyter.widget-view+json": {
       "model_id": "1aa23d2e339d4bc5889e29e8f1c7d80e",
       "version_major": 2,
       "version_minor": 0
      },
      "text/plain": [
       "Validation: |                                                                  | 0/? [00:00<?, ?it/s]"
      ]
     },
     "metadata": {},
     "output_type": "display_data"
    },
    {
     "name": "stdout",
     "output_type": "stream",
     "text": [
      "WER on validate data: 1.0\n",
      "First 5 predictions:  ['!�c', '!�c', '!�', '!�', '!�']\n",
      "First 5 references:  ['nhưng đối với anh đó thật là một vấn đề', 'liên quan tới vợ chồng ông đặng tuy', 'không hề hỏi han gì bởi ông biết có hỏi', 'đến thế cơ mà một đằng súng ống đạn dược', 'cái loại hình nghệ thuật mà nó dung chứa']\n"
     ]
    },
    {
     "data": {
      "application/vnd.jupyter.widget-view+json": {
       "model_id": "07ba256513e947aabb94fc5b3d2948ea",
       "version_major": 2,
       "version_minor": 0
      },
      "text/plain": [
       "Validation: |                                                                  | 0/? [00:00<?, ?it/s]"
      ]
     },
     "metadata": {},
     "output_type": "display_data"
    },
    {
     "name": "stdout",
     "output_type": "stream",
     "text": [
      "WER on validate data: 1.0\n",
      "First 5 predictions:  ['!�nh�', '!�nh', '!�không', '!�đ', '!�ng']\n",
      "First 5 references:  ['nhưng đối với anh đó thật là một vấn đề', 'liên quan tới vợ chồng ông đặng tuy', 'không hề hỏi han gì bởi ông biết có hỏi', 'đến thế cơ mà một đằng súng ống đạn dược', 'cái loại hình nghệ thuật mà nó dung chứa']\n"
     ]
    },
    {
     "data": {
      "application/vnd.jupyter.widget-view+json": {
       "model_id": "5b8727507ef94b7ba92e2ed4d99d707b",
       "version_major": 2,
       "version_minor": 0
      },
      "text/plain": [
       "Validation: |                                                                  | 0/? [00:00<?, ?it/s]"
      ]
     },
     "metadata": {},
     "output_type": "display_data"
    },
    {
     "name": "stdout",
     "output_type": "stream",
     "text": [
      "WER on validate data: 1.0\n",
      "First 5 predictions:  ['!�nhưngth', '!�nườittr', '!�không', '!�để', '!�th�']\n",
      "First 5 references:  ['nhưng đối với anh đó thật là một vấn đề', 'liên quan tới vợ chồng ông đặng tuy', 'không hề hỏi han gì bởi ông biết có hỏi', 'đến thế cơ mà một đằng súng ống đạn dược', 'cái loại hình nghệ thuật mà nó dung chứa']\n"
     ]
    },
    {
     "data": {
      "application/vnd.jupyter.widget-view+json": {
       "model_id": "9d2a2786b8d74725b57b846f1805e672",
       "version_major": 2,
       "version_minor": 0
      },
      "text/plain": [
       "Validation: |                                                                  | 0/? [00:00<?, ?it/s]"
      ]
     },
     "metadata": {},
     "output_type": "display_data"
    },
    {
     "name": "stdout",
     "output_type": "stream",
     "text": [
      "WER on validate data: 0.7978621186644247\n",
      "First 5 predictions:  ['!�những đối anh nói thật là vô đến', '!�lếu t vợtrong ông đ đang titin', '!�không h hai gì bở ông con h họ', '!�để thế cơ mà b một đ đangống ông đ đã dự', '!�anh lo h haiẹ thôi mà tạiụ ch']\n",
      "First 5 references:  ['nhưng đối với anh đó thật là một vấn đề', 'liên quan tới vợ chồng ông đặng tuy', 'không hề hỏi han gì bởi ông biết có hỏi', 'đến thế cơ mà một đằng súng ống đạn dược', 'cái loại hình nghệ thuật mà nó dung chứa']\n"
     ]
    },
    {
     "data": {
      "application/vnd.jupyter.widget-view+json": {
       "model_id": "7a53f87b6622401998d1cbb902a86a12",
       "version_major": 2,
       "version_minor": 0
      },
      "text/plain": [
       "Validation: |                                                                  | 0/? [00:00<?, ?it/s]"
      ]
     },
     "metadata": {},
     "output_type": "display_data"
    },
    {
     "name": "stdout",
     "output_type": "stream",
     "text": [
      "WER on validate data: 0.7081431659860677\n",
      "First 5 predictions:  ['!�nhưng đối rất anh nó thật làm phúc để', '!�lên quan tớiợ chồng đọ tên', '!�không hoỏi gì bở ông biết có', '!�đến thế cơ mà một đ đang xuống ông dự', '!�em lo hàngẹ thu mà nhưng ch chúng']\n",
      "First 5 references:  ['nhưng đối với anh đó thật là một vấn đề', 'liên quan tới vợ chồng ông đặng tuy', 'không hề hỏi han gì bởi ông biết có hỏi', 'đến thế cơ mà một đằng súng ống đạn dược', 'cái loại hình nghệ thuật mà nó dung chứa']\n"
     ]
    },
    {
     "data": {
      "application/vnd.jupyter.widget-view+json": {
       "model_id": "228db28b76654065a54d274ca77ca4d6",
       "version_major": 2,
       "version_minor": 0
      },
      "text/plain": [
       "Validation: |                                                                  | 0/? [00:00<?, ?it/s]"
      ]
     },
     "metadata": {},
     "output_type": "display_data"
    },
    {
     "name": "stdout",
     "output_type": "stream",
     "text": [
      "WER on validate data: 0.6449675714628873\n",
      "First 5 predictions:  ['!�nhưng đơn với anh nói thật làm mộtúc đ để', '!�ên qua tớiợ  chồng ông đạo tì', '!�không hỏi hai gì bở ông biết có ho họ', '!�đếnthế  cơ mà một đ đang dung ông đự', '!�y l lo hề thu mà d nhưng chứ']\n",
      "First 5 references:  ['nhưng đối với anh đó thật là một vấn đề', 'liên quan tới vợ chồng ông đặng tuy', 'không hề hỏi han gì bởi ông biết có hỏi', 'đến thế cơ mà một đằng súng ống đạn dược', 'cái loại hình nghệ thuật mà nó dung chứa']\n"
     ]
    },
    {
     "data": {
      "application/vnd.jupyter.widget-view+json": {
       "model_id": "103736e94391416c890e488ff1855173",
       "version_major": 2,
       "version_minor": 0
      },
      "text/plain": [
       "Validation: |                                                                  | 0/? [00:00<?, ?it/s]"
      ]
     },
     "metadata": {},
     "output_type": "display_data"
    },
    {
     "name": "stdout",
     "output_type": "stream",
     "text": [
      "WER on validate data: 0.6159019937545039\n",
      "First 5 predictions:  ['!�nhưng đôi phải anh nói thật làm một vó để', '!�nhên quan tới vợtrồng đọtì', '!�không hayỏi hàng gì bởi ông biết có họ', '!�đêmthơ cơ mà một đ đang xung ông đạn dực', '!�yấy ở lại h hàng nghệ thu mà với dung chú']\n",
      "First 5 references:  ['nhưng đối với anh đó thật là một vấn đề', 'liên quan tới vợ chồng ông đặng tuy', 'không hề hỏi han gì bởi ông biết có hỏi', 'đến thế cơ mà một đằng súng ống đạn dược', 'cái loại hình nghệ thuật mà nó dung chứa']\n"
     ]
    },
    {
     "data": {
      "application/vnd.jupyter.widget-view+json": {
       "model_id": "4d1fb507c3aa43cb9119701e8e9d42fa",
       "version_major": 2,
       "version_minor": 0
      },
      "text/plain": [
       "Validation: |                                                                  | 0/? [00:00<?, ?it/s]"
      ]
     },
     "metadata": {},
     "output_type": "display_data"
    },
    {
     "name": "stdout",
     "output_type": "stream",
     "text": [
      "WER on validate data: 0.6060533269276964\n",
      "First 5 predictions:  ['!�nhưng nhưng đối ph phải ăn nó thật là phúc phần đ để', '!�lên quanới vợ chồng ông đạo t', '!�không hayắn gì bở ông biết có họ', '!�đến thơ mà một đ đang xung ông đạn dự', '!� loại hận nghề thuật màtất nhưng chứ']\n",
      "First 5 references:  ['nhưng đối với anh đó thật là một vấn đề', 'liên quan tới vợ chồng ông đặng tuy', 'không hề hỏi han gì bởi ông biết có hỏi', 'đến thế cơ mà một đằng súng ống đạn dược', 'cái loại hình nghệ thuật mà nó dung chứa']\n"
     ]
    },
    {
     "data": {
      "application/vnd.jupyter.widget-view+json": {
       "model_id": "0838751824df4fdd824bff65995497c1",
       "version_major": 2,
       "version_minor": 0
      },
      "text/plain": [
       "Validation: |                                                                  | 0/? [00:00<?, ?it/s]"
      ]
     },
     "metadata": {},
     "output_type": "display_data"
    },
    {
     "name": "stdout",
     "output_type": "stream",
     "text": [
      "WER on validate data: 0.5697814076387221\n",
      "First 5 predictions:  ['!�nhưng đối phải anh nó thật là một phúc đ để', '!�lên qua tới vợ chồngống đặ tì', '!�không không hỏi hắn gì bởi ông biết có', '!�đến thế cơ mà một đằng dung ông dự', '!�ấy loạiình nghề thu m mà tớiung chứ']\n",
      "First 5 references:  ['nhưng đối với anh đó thật là một vấn đề', 'liên quan tới vợ chồng ông đặng tuy', 'không hề hỏi han gì bởi ông biết có hỏi', 'đến thế cơ mà một đằng súng ống đạn dược', 'cái loại hình nghệ thuật mà nó dung chứa']\n"
     ]
    },
    {
     "data": {
      "application/vnd.jupyter.widget-view+json": {
       "model_id": "1377a715699f4be2b8b191071f292254",
       "version_major": 2,
       "version_minor": 0
      },
      "text/plain": [
       "Validation: |                                                                  | 0/? [00:00<?, ?it/s]"
      ]
     },
     "metadata": {},
     "output_type": "display_data"
    },
    {
     "name": "stdout",
     "output_type": "stream",
     "text": [
      "WER on validate data: 0.5648570742253183\n",
      "First 5 predictions:  ['!�nhưng đ ph phải nó thật là mộtốc để', '!�luên qua tới vợ chồng ông đạong tì', '!�không hề hỏiắn gì bởi ô biết có họ', '!�đến thế cơ mà một đằng xung ông đ đã dự', '!�ấy loại hề thuộc màtới nhiung chú']\n",
      "First 5 references:  ['nhưng đối với anh đó thật là một vấn đề', 'liên quan tới vợ chồng ông đặng tuy', 'không hề hỏi han gì bởi ông biết có hỏi', 'đến thế cơ mà một đằng súng ống đạn dược', 'cái loại hình nghệ thuật mà nó dung chứa']\n"
     ]
    },
    {
     "data": {
      "application/vnd.jupyter.widget-view+json": {
       "model_id": "b754975859444fcc8b612f10156fa14e",
       "version_major": 2,
       "version_minor": 0
      },
      "text/plain": [
       "Validation: |                                                                  | 0/? [00:00<?, ?it/s]"
      ]
     },
     "metadata": {},
     "output_type": "display_data"
    },
    {
     "name": "stdout",
     "output_type": "stream",
     "text": [
      "WER on validate data: 0.5441988950276243\n",
      "First 5 predictions:  ['!�nhưng đối ph sẽ anh nó thật là một phốc đ để', '!�luên qua tới vợ chồngống đả tuy', '!�không hề hỏiắn gì bởi biết có', '!�đến th cơ mà một đàng xống ông đ đã dự', '!� lo h hayệ thuật mãitới nhung ch chưa']\n",
      "First 5 references:  ['nhưng đối với anh đó thật là một vấn đề', 'liên quan tới vợ chồng ông đặng tuy', 'không hề hỏi han gì bởi ông biết có hỏi', 'đến thế cơ mà một đằng súng ống đạn dược', 'cái loại hình nghệ thuật mà nó dung chứa']\n"
     ]
    },
    {
     "data": {
      "application/vnd.jupyter.widget-view+json": {
       "model_id": "7905e87e97a54d04a23dea0fe33c516f",
       "version_major": 2,
       "version_minor": 0
      },
      "text/plain": [
       "Validation: |                                                                  | 0/? [00:00<?, ?it/s]"
      ]
     },
     "metadata": {},
     "output_type": "display_data"
    },
    {
     "name": "stdout",
     "output_type": "stream",
     "text": [
      "WER on validate data: 0.5598126351189047\n",
      "First 5 predictions:  ['!�nhưngôi sẽ anh nói thật làúc đều', '!�luên qua tớiợ chồng ông đạo tì�', '!�không hề hỏi hắn gì bởi ô biết có hò', '!�đêmếth cơ mà một đàng xung ông đ đã dực', '!�ấy loại h ng nghĩ thuộc màớiung ch chưa']\n",
      "First 5 references:  ['nhưng đối với anh đó thật là một vấn đề', 'liên quan tới vợ chồng ông đặng tuy', 'không hề hỏi han gì bởi ông biết có hỏi', 'đến thế cơ mà một đằng súng ống đạn dược', 'cái loại hình nghệ thuật mà nó dung chứa']\n"
     ]
    },
    {
     "data": {
      "application/vnd.jupyter.widget-view+json": {
       "model_id": "d85fe0b0688c414187f74e90bcd6e430",
       "version_major": 2,
       "version_minor": 0
      },
      "text/plain": [
       "Validation: |                                                                  | 0/? [00:00<?, ?it/s]"
      ]
     },
     "metadata": {},
     "output_type": "display_data"
    },
    {
     "name": "stdout",
     "output_type": "stream",
     "text": [
      "WER on validate data: 0.535671390823925\n",
      "First 5 predictions:  ['!�nhưng đối với anh nó thật là một phúc đề', '!�lh qua tới vợ chồng đạo y', '!�không hề hỏi hắn gì bởi ông biết có h họ', '!�đếnếth cơ mà một đằng sung ông đ đã dự', '!�ấy loại h hơn ngh ngày thuật mà với nhưng chứ']\n",
      "First 5 references:  ['nhưng đối với anh đó thật là một vấn đề', 'liên quan tới vợ chồng ông đặng tuy', 'không hề hỏi han gì bởi ông biết có hỏi', 'đến thế cơ mà một đằng súng ống đạn dược', 'cái loại hình nghệ thuật mà nó dung chứa']\n"
     ]
    },
    {
     "data": {
      "application/vnd.jupyter.widget-view+json": {
       "model_id": "11e1b420ddb44830814073181099fd7f",
       "version_major": 2,
       "version_minor": 0
      },
      "text/plain": [
       "Validation: |                                                                  | 0/? [00:00<?, ?it/s]"
      ]
     },
     "metadata": {},
     "output_type": "display_data"
    },
    {
     "name": "stdout",
     "output_type": "stream",
     "text": [
      "WER on validate data: 0.5164544799423493\n",
      "First 5 predictions:  ['!�nhưng đối anh nói thật là một phốc đề', '!�linh qua tới vợ ch� ông đ� ty', '!�không không hề hỏiắn gì bởi ông biết có họ', '!�đếnthế cơ mà một đằng xung ông đã dực', '!�ấy lo hật ngh nghĩth thuật mã tôi nhưng chú']\n",
      "First 5 references:  ['nhưng đối với anh đó thật là một vấn đề', 'liên quan tới vợ chồng ông đặng tuy', 'không hề hỏi han gì bởi ông biết có hỏi', 'đến thế cơ mà một đằng súng ống đạn dược', 'cái loại hình nghệ thuật mà nó dung chứa']\n"
     ]
    },
    {
     "data": {
      "application/vnd.jupyter.widget-view+json": {
       "model_id": "1de04f1214f94cbc9e79c78d1ede1f48",
       "version_major": 2,
       "version_minor": 0
      },
      "text/plain": [
       "Validation: |                                                                  | 0/? [00:00<?, ?it/s]"
      ]
     },
     "metadata": {},
     "output_type": "display_data"
    },
    {
     "name": "stdout",
     "output_type": "stream",
     "text": [
      "WER on validate data: 0.5141724717751621\n",
      "First 5 predictions:  ['!�nhưng đ được với anh nó thật là một phốt đ để', '!�luh qua tới vợ chồng ông đạ tuy', '!�không hỏi an gì bởiủ biết có hỏi', '!�đếnth ếơ mạ một đànung ông đ đã rực', '!�ấy loại hành nghề thuật màt ung chú']\n",
      "First 5 references:  ['nhưng đối với anh đó thật là một vấn đề', 'liên quan tới vợ chồng ông đặng tuy', 'không hề hỏi han gì bởi ông biết có hỏi', 'đến thế cơ mà một đằng súng ống đạn dược', 'cái loại hình nghệ thuật mà nó dung chứa']\n"
     ]
    },
    {
     "data": {
      "application/vnd.jupyter.widget-view+json": {
       "model_id": "dc52a40de0564abd9b63ca095b08fd4f",
       "version_major": 2,
       "version_minor": 0
      },
      "text/plain": [
       "Validation: |                                                                  | 0/? [00:00<?, ?it/s]"
      ]
     },
     "metadata": {},
     "output_type": "display_data"
    },
    {
     "name": "stdout",
     "output_type": "stream",
     "text": [
      "WER on validate data: 0.4985587316838818\n",
      "First 5 predictions:  ['!�nhưng đối với anh nó thật là một phúcề', '!�linên qua tớiợ chồng ông đạo tuy', '!�khôngề han gì bởi cùng biết có họ', '!�đến thếơ mà một đằng dung ông đã dự', '!�ấy loại hận nghệ thuật màtớiung chưa']\n",
      "First 5 references:  ['nhưng đối với anh đó thật là một vấn đề', 'liên quan tới vợ chồng ông đặng tuy', 'không hề hỏi han gì bởi ông biết có hỏi', 'đến thế cơ mà một đằng súng ống đạn dược', 'cái loại hình nghệ thuật mà nó dung chứa']\n"
     ]
    },
    {
     "data": {
      "application/vnd.jupyter.widget-view+json": {
       "model_id": "a68c2cfdabe74b5b8681da7e936c3af9",
       "version_major": 2,
       "version_minor": 0
      },
      "text/plain": [
       "Validation: |                                                                  | 0/? [00:00<?, ?it/s]"
      ]
     },
     "metadata": {},
     "output_type": "display_data"
    },
    {
     "name": "stdout",
     "output_type": "stream",
     "text": [
      "WER on validate data: 0.49207302426134997\n",
      "First 5 predictions:  ['!�nhưng đôi phải anh nó thật làm một phốn đời', '!�linh qua tới vợ chồng ông đạo tuy', '!�khôngề hỏi hát gì bởi ông biết có họ', '!�đến thế cơ mà một đằng sung ông đạn dừng', '!�aiấyại hình nghệ thuật màtớiung chú']\n",
      "First 5 references:  ['nhưng đối với anh đó thật là một vấn đề', 'liên quan tới vợ chồng ông đặng tuy', 'không hề hỏi han gì bởi ông biết có hỏi', 'đến thế cơ mà một đằng súng ống đạn dược', 'cái loại hình nghệ thuật mà nó dung chứa']\n"
     ]
    },
    {
     "data": {
      "application/vnd.jupyter.widget-view+json": {
       "model_id": "7da1a77805b54a00bb71cd37823c1427",
       "version_major": 2,
       "version_minor": 0
      },
      "text/plain": [
       "Validation: |                                                                  | 0/? [00:00<?, ?it/s]"
      ]
     },
     "metadata": {},
     "output_type": "display_data"
    },
    {
     "name": "stdout",
     "output_type": "stream",
     "text": [
      "WER on validate data: 0.5016814797021378\n",
      "First 5 predictions:  ['!�nhưng đôi với anh nó thật làm một phốn đề', '!�luh qua t vợ chồng ông đảo thì', '!�không hỏi h han gì bởi ông biết có', '!�đến ế cơ mà một đàngung ông đ đã rự', '!�ấy loại hình nghệ thu mà vớiung chú']\n",
      "First 5 references:  ['nhưng đối với anh đó thật là một vấn đề', 'liên quan tới vợ chồng ông đặng tuy', 'không hề hỏi han gì bởi ông biết có hỏi', 'đến thế cơ mà một đằng súng ống đạn dược', 'cái loại hình nghệ thuật mà nó dung chứa']\n"
     ]
    },
    {
     "data": {
      "application/vnd.jupyter.widget-view+json": {
       "model_id": "ce2607c6fa79414f9fd8271f79d9ffce",
       "version_major": 2,
       "version_minor": 0
      },
      "text/plain": [
       "Validation: |                                                                  | 0/? [00:00<?, ?it/s]"
      ]
     },
     "metadata": {},
     "output_type": "display_data"
    },
    {
     "name": "stdout",
     "output_type": "stream",
     "text": [
      "WER on validate data: 0.4941148210425174\n",
      "First 5 predictions:  ['!�nhưng đôi với anh nó thật là một phốn đề', '!�linên qua tớiợ vợ chồng ông đ�ng tuy', '!�không hề hỏi han gì bởi biết cóỏi', '!�đến thế cơ mà một đằng xung ông đ đã dược', '!�ấy loại hận nghể thuật màớiungú']\n",
      "First 5 references:  ['nhưng đối với anh đó thật là một vấn đề', 'liên quan tới vợ chồng ông đặng tuy', 'không hề hỏi han gì bởi ông biết có hỏi', 'đến thế cơ mà một đằng súng ống đạn dược', 'cái loại hình nghệ thuật mà nó dung chứa']\n"
     ]
    },
    {
     "data": {
      "application/vnd.jupyter.widget-view+json": {
       "model_id": "1edb73e72720467db421757148dc41e5",
       "version_major": 2,
       "version_minor": 0
      },
      "text/plain": [
       "Validation: |                                                                  | 0/? [00:00<?, ?it/s]"
      ]
     },
     "metadata": {},
     "output_type": "display_data"
    },
    {
     "name": "stdout",
     "output_type": "stream",
     "text": [
      "WER on validate data: 0.47645928417006966\n",
      "First 5 predictions:  ['!�nhưng đôiết anh đó thật là một đề', '!�linh qua tới vợ chồng ông  đ�ng thì', '!�công không hề hỏi han gì bởi ông biết có họ', '!�đêm thế cơ mà một đằng sung ôngạn rực', '!�ấy loại hần nghệ thuật mà nóung chú']\n",
      "First 5 references:  ['nhưng đối với anh đó thật là một vấn đề', 'liên quan tới vợ chồng ông đặng tuy', 'không hề hỏi han gì bởi ông biết có hỏi', 'đến thế cơ mà một đằng súng ống đạn dược', 'cái loại hình nghệ thuật mà nó dung chứa']\n"
     ]
    },
    {
     "data": {
      "application/vnd.jupyter.widget-view+json": {
       "model_id": "3961c0f757e1499d9a95110283223f24",
       "version_major": 2,
       "version_minor": 0
      },
      "text/plain": [
       "Validation: |                                                                  | 0/? [00:00<?, ?it/s]"
      ]
     },
     "metadata": {},
     "output_type": "display_data"
    },
    {
     "name": "stdout",
     "output_type": "stream",
     "text": [
      "WER on validate data: 0.4782608695652174\n",
      "First 5 predictions:  ['!�nhưng đôi sẽ anh nó thật làm một phúc đều', '!�linh qua tới vợ chồng ông đ�ng tuy', '!�không không hỏi han gì bởi biết ông có họ', '!�đến thế cơ mà một đàng xung ông đ đã dược', '!�ấy loại hình nghệ thuật màtôi dungú']\n",
      "First 5 references:  ['nhưng đối với anh đó thật là một vấn đề', 'liên quan tới vợ chồng ông đặng tuy', 'không hề hỏi han gì bởi ông biết có hỏi', 'đến thế cơ mà một đằng súng ống đạn dược', 'cái loại hình nghệ thuật mà nó dung chứa']\n"
     ]
    },
    {
     "data": {
      "application/vnd.jupyter.widget-view+json": {
       "model_id": "2dfd6f3880cc4dbeb29baf56ab62e134",
       "version_major": 2,
       "version_minor": 0
      },
      "text/plain": [
       "Validation: |                                                                  | 0/? [00:00<?, ?it/s]"
      ]
     },
     "metadata": {},
     "output_type": "display_data"
    },
    {
     "name": "stdout",
     "output_type": "stream",
     "text": [
      "WER on validate data: 0.46228681239490754\n",
      "First 5 predictions:  ['!�nhưng đôi phía anh nó thật làm một phúc đề', '!�linêng quan tới vợ chồng ôngm đ�ng tuy', '!�không không hề hỏi han gì bởi ông biết có hỏi', '!�đến thế cơ mà một đằng sung ông đạn giược', '!�ấy loại hần nghề thuật mà nhiêu chú']\n",
      "First 5 references:  ['nhưng đối với anh đó thật là một vấn đề', 'liên quan tới vợ chồng ông đặng tuy', 'không hề hỏi han gì bởi ông biết có hỏi', 'đến thế cơ mà một đằng súng ống đạn dược', 'cái loại hình nghệ thuật mà nó dung chứa']\n"
     ]
    },
    {
     "data": {
      "application/vnd.jupyter.widget-view+json": {
       "model_id": "89bf469bab2d455694919fea2464009e",
       "version_major": 2,
       "version_minor": 0
      },
      "text/plain": [
       "Validation: |                                                                  | 0/? [00:00<?, ?it/s]"
      ]
     },
     "metadata": {},
     "output_type": "display_data"
    },
    {
     "name": "stdout",
     "output_type": "stream",
     "text": [
      "WER on validate data: 0.4704539995195772\n",
      "First 5 predictions:  ['!�nhưng đối phải anh nó thật là một phốc đề', '!�linên qua tới vợ chồng ông đạong tuy', '!�không không hề hỏi han gì bởi ông biết có hỏi', '!�đến thế cơ mà một đằngung ông đ đã rượ', '!�ấy loại hân nghệ thuật mà đó nhung chú']\n",
      "First 5 references:  ['nhưng đối với anh đó thật là một vấn đề', 'liên quan tới vợ chồng ông đặng tuy', 'không hề hỏi han gì bởi ông biết có hỏi', 'đến thế cơ mà một đằng súng ống đạn dược', 'cái loại hình nghệ thuật mà nó dung chứa']\n"
     ]
    },
    {
     "data": {
      "application/vnd.jupyter.widget-view+json": {
       "model_id": "1eb01119b7b74ee6ab78dbb0b5415ada",
       "version_major": 2,
       "version_minor": 0
      },
      "text/plain": [
       "Validation: |                                                                  | 0/? [00:00<?, ?it/s]"
      ]
     },
     "metadata": {},
     "output_type": "display_data"
    },
    {
     "name": "stdout",
     "output_type": "stream",
     "text": [
      "WER on validate data: 0.4792217151092962\n",
      "First 5 predictions:  ['!�nhưng đúng phải anh nó thật là một phúc đề', '!�nên quan tới vợ chồng ông đạo tuy', '!�không không hỏi anăn gì bở ông biết cóỏi', '!�đến thế cơ mà một đằng xung ông đã giược', '!�ấy loại hậ ểthu mạôi dung chú']\n",
      "First 5 references:  ['nhưng đối với anh đó thật là một vấn đề', 'liên quan tới vợ chồng ông đặng tuy', 'không hề hỏi han gì bởi ông biết có hỏi', 'đến thế cơ mà một đằng súng ống đạn dược', 'cái loại hình nghệ thuật mà nó dung chứa']\n"
     ]
    },
    {
     "data": {
      "application/vnd.jupyter.widget-view+json": {
       "model_id": "42fb967793244d9ab1414a365cb7e26c",
       "version_major": 2,
       "version_minor": 0
      },
      "text/plain": [
       "Validation: |                                                                  | 0/? [00:00<?, ?it/s]"
      ]
     },
     "metadata": {},
     "output_type": "display_data"
    },
    {
     "name": "stdout",
     "output_type": "stream",
     "text": [
      "WER on validate data: 0.455560893586356\n",
      "First 5 predictions:  ['!�nhưng đối với anh nó thật là một vốc đề', '!�linh qua tới vợ chồng đ� tuy', '!�không hề hỏi han gì bởi ông biết có hỏi', '!�đến thế cơ mà một đằng rung ông giượ', '!�ấy loại hìnhệ thuật màôiung chú']\n",
      "First 5 references:  ['nhưng đối với anh đó thật là một vấn đề', 'liên quan tới vợ chồng ông đặng tuy', 'không hề hỏi han gì bởi ông biết có hỏi', 'đến thế cơ mà một đằng súng ống đạn dược', 'cái loại hình nghệ thuật mà nó dung chứa']\n"
     ]
    },
    {
     "data": {
      "application/vnd.jupyter.widget-view+json": {
       "model_id": "7b2d511f75284457b3c62c79f9bc1887",
       "version_major": 2,
       "version_minor": 0
      },
      "text/plain": [
       "Validation: |                                                                  | 0/? [00:00<?, ?it/s]"
      ]
     },
     "metadata": {},
     "output_type": "display_data"
    },
    {
     "name": "stdout",
     "output_type": "stream",
     "text": [
      "WER on validate data: 0.46336776363199617\n",
      "First 5 predictions:  ['!�nhưng đốiết anh nói thật là một vốc đề', '!�linh qua tới vợ chồngống đ�ng tuy', '!�không hề hỏi han gì bởi ông biết cóỏi', '!�đến thế cơ mà một đằng xung ông đã rược', '!�ấy loại h hơn nghệ thuật mà nó dung chú']\n",
      "First 5 references:  ['nhưng đối với anh đó thật là một vấn đề', 'liên quan tới vợ chồng ông đặng tuy', 'không hề hỏi han gì bởi ông biết có hỏi', 'đến thế cơ mà một đằng súng ống đạn dược', 'cái loại hình nghệ thuật mà nó dung chứa']\n"
     ]
    },
    {
     "data": {
      "application/vnd.jupyter.widget-view+json": {
       "model_id": "bca9de23f12a4336828b92148ca63afd",
       "version_major": 2,
       "version_minor": 0
      },
      "text/plain": [
       "Validation: |                                                                  | 0/? [00:00<?, ?it/s]"
      ]
     },
     "metadata": {},
     "output_type": "display_data"
    },
    {
     "name": "stdout",
     "output_type": "stream",
     "text": [
      "WER on validate data: 0.45423973096324766\n",
      "First 5 predictions:  ['!�nhưng đốiép anh nó thật là một v đề', '!�linh qua tới vợ chồng ống đ�ng tuy', '!�không không hề hỏi han gì bởi ô biết có hỏi', '!�đến thế cơ mà một đằng rung ôngạn dực', '!�ấy loạia hình nghệ thuật màôi dung ch chưa']\n",
      "First 5 references:  ['nhưng đối với anh đó thật là một vấn đề', 'liên quan tới vợ chồng ông đặng tuy', 'không hề hỏi han gì bởi ông biết có hỏi', 'đến thế cơ mà một đằng súng ống đạn dược', 'cái loại hình nghệ thuật mà nó dung chứa']\n"
     ]
    },
    {
     "data": {
      "application/vnd.jupyter.widget-view+json": {
       "model_id": "65e479a22e5e4f95b5e397197c5ccd89",
       "version_major": 2,
       "version_minor": 0
      },
      "text/plain": [
       "Validation: |                                                                  | 0/? [00:00<?, ?it/s]"
      ]
     },
     "metadata": {},
     "output_type": "display_data"
    },
    {
     "name": "stdout",
     "output_type": "stream",
     "text": [
      "WER on validate data: 0.44306990151333175\n",
      "First 5 predictions:  ['!�nhưng đối với anh nó thật là một phó đề', '!�linh qua tới vợ chồng ông đ�ng tuy', '!�không hề hỏi han gì bởi ông biết cóỏi', '!�đến thế cơ mà một đànung ông đ đã dược', '!�ấy loại hình ngh để thuật màôi dung chú']\n",
      "First 5 references:  ['nhưng đối với anh đó thật là một vấn đề', 'liên quan tới vợ chồng ông đặng tuy', 'không hề hỏi han gì bởi ông biết có hỏi', 'đến thế cơ mà một đằng súng ống đạn dược', 'cái loại hình nghệ thuật mà nó dung chứa']\n"
     ]
    },
    {
     "data": {
      "application/vnd.jupyter.widget-view+json": {
       "model_id": "dc291e667d044d9d9cdf75afda02aaa1",
       "version_major": 2,
       "version_minor": 0
      },
      "text/plain": [
       "Validation: |                                                                  | 0/? [00:00<?, ?it/s]"
      ]
     },
     "metadata": {},
     "output_type": "display_data"
    },
    {
     "name": "stdout",
     "output_type": "stream",
     "text": [
      "WER on validate data: 0.4399471534950757\n",
      "First 5 predictions:  ['!�nhưng đôi phải anh nó thật là một phốc đề', '!�linên qua tới vợồng ch u ông đ� tuy', '!�không hề hỏi gì bởi ông biết cóỏi', '!�đến thế cơ mà một đằng xung ông đã dược', '!� loại hình h để thuật m mãôiung chú']\n",
      "First 5 references:  ['nhưng đối với anh đó thật là một vấn đề', 'liên quan tới vợ chồng ông đặng tuy', 'không hề hỏi han gì bởi ông biết có hỏi', 'đến thế cơ mà một đằng súng ống đạn dược', 'cái loại hình nghệ thuật mà nó dung chứa']\n"
     ]
    },
    {
     "data": {
      "application/vnd.jupyter.widget-view+json": {
       "model_id": "0d0680b242c547018df216f9259582ba",
       "version_major": 2,
       "version_minor": 0
      },
      "text/plain": [
       "Validation: |                                                                  | 0/? [00:00<?, ?it/s]"
      ]
     },
     "metadata": {},
     "output_type": "display_data"
    },
    {
     "name": "stdout",
     "output_type": "stream",
     "text": [
      "WER on validate data: 0.4466730723036272\n",
      "First 5 predictions:  ['!�nhưng đốiết anh nó thật làm một phốc đề', '!�linh qua tớiợ chồng  ông đ�tuy', '!�không không hề hỏi han gì bởi ông biết có hỏi', '!�đến thế cơ mà một đàn xung ông đ đãng giược', '!�ấy loại hình nghề thuật mà nóiêu chưaú']\n",
      "First 5 references:  ['nhưng đối với anh đó thật là một vấn đề', 'liên quan tới vợ chồng ông đặng tuy', 'không hề hỏi han gì bởi ông biết có hỏi', 'đến thế cơ mà một đằng súng ống đạn dược', 'cái loại hình nghệ thuật mà nó dung chứa']\n"
     ]
    },
    {
     "data": {
      "application/vnd.jupyter.widget-view+json": {
       "model_id": "80e0fc3c52ed4e14a8715316d54c38b7",
       "version_major": 2,
       "version_minor": 0
      },
      "text/plain": [
       "Validation: |                                                                  | 0/? [00:00<?, ?it/s]"
      ]
     },
     "metadata": {},
     "output_type": "display_data"
    },
    {
     "name": "stdout",
     "output_type": "stream",
     "text": [
      "WER on validate data: 0.45399951957722795\n",
      "First 5 predictions:  ['!�nhưng đối sẽ anh nóthật là một phốc đề', '!�linên qua tới vợ chồng ông đạo tuy', '!�không hề hỏi han gì bởi ông biết cóỏi', '!�đến thế cơ mà một đằng xung ông đạn rược', '!�ấy ở loại hình nghệ thuật màôi dung chú']\n",
      "First 5 references:  ['nhưng đối với anh đó thật là một vấn đề', 'liên quan tới vợ chồng ông đặng tuy', 'không hề hỏi han gì bởi ông biết có hỏi', 'đến thế cơ mà một đằng súng ống đạn dược', 'cái loại hình nghệ thuật mà nó dung chứa']\n"
     ]
    },
    {
     "data": {
      "application/vnd.jupyter.widget-view+json": {
       "model_id": "4963f252a63c445c91bcba10b330d5c2",
       "version_major": 2,
       "version_minor": 0
      },
      "text/plain": [
       "Validation: |                                                                  | 0/? [00:00<?, ?it/s]"
      ]
     },
     "metadata": {},
     "output_type": "display_data"
    },
    {
     "name": "stdout",
     "output_type": "stream",
     "text": [
      "WER on validate data: 0.44487148690847944\n",
      "First 5 predictions:  ['!�nhưng đối sẽ anh nó thật là một phốc đề', '!�linh qua tới vợ chồng ống đạong tì', '!�không hề hỏi han gì bởi ông biết cóỏi', '!�đến thế cơ mà một đằng rung ông đ đã rường', '!�ấy loại anh hần nghệ thuật mà nó dung ch']\n",
      "First 5 references:  ['nhưng đối với anh đó thật là một vấn đề', 'liên quan tới vợ chồng ông đặng tuy', 'không hề hỏi han gì bởi ông biết có hỏi', 'đến thế cơ mà một đằng súng ống đạn dược', 'cái loại hình nghệ thuật mà nó dung chứa']\n"
     ]
    },
    {
     "data": {
      "application/vnd.jupyter.widget-view+json": {
       "model_id": "65138525be4f40028ee445dd9e47c3d7",
       "version_major": 2,
       "version_minor": 0
      },
      "text/plain": [
       "Validation: |                                                                  | 0/? [00:00<?, ?it/s]"
      ]
     },
     "metadata": {},
     "output_type": "display_data"
    },
    {
     "name": "stdout",
     "output_type": "stream",
     "text": [
      "WER on validate data: 0.44787412923372566\n",
      "First 5 predictions:  ['!�nhưng đối sẽ anh nó thật là một vốc đề', '!�linh qua tới vợ chồng  ông đạong tuy', '!�không hề hỏi han gì bởi ông biết có họ', '!�đến thế cơ mà một đằng rung ông đạn giực', '!�ấy loại anh h nghệuật  m mà nó nhiêu chú']\n",
      "First 5 references:  ['nhưng đối với anh đó thật là một vấn đề', 'liên quan tới vợ chồng ông đặng tuy', 'không hề hỏi han gì bởi ông biết có hỏi', 'đến thế cơ mà một đằng súng ống đạn dược', 'cái loại hình nghệ thuật mà nó dung chứa']\n"
     ]
    },
    {
     "data": {
      "application/vnd.jupyter.widget-view+json": {
       "model_id": "dce91e424aba4f509cd2d6392f0a091d",
       "version_major": 2,
       "version_minor": 0
      },
      "text/plain": [
       "Validation: |                                                                  | 0/? [00:00<?, ?it/s]"
      ]
     },
     "metadata": {},
     "output_type": "display_data"
    },
    {
     "name": "stdout",
     "output_type": "stream",
     "text": [
      "WER on validate data: 0.43057890944030747\n",
      "First 5 predictions:  ['!�nhưng đôi sẽ anh nó thật làm một vốc đề', '!�linh qua tới vợ chồng  ông đạo tuy', '!�không hề hỏi han gì bởi ông biết có h họ', '!�đến thế cơ mà một đằng xung ôngạn giượng', '!�ấy loại h hơn nghệ thuật màôi dung chứ']\n",
      "First 5 references:  ['nhưng đối với anh đó thật là một vấn đề', 'liên quan tới vợ chồng ông đặng tuy', 'không hề hỏi han gì bởi ông biết có hỏi', 'đến thế cơ mà một đằng súng ống đạn dược', 'cái loại hình nghệ thuật mà nó dung chứa']\n"
     ]
    },
    {
     "data": {
      "application/vnd.jupyter.widget-view+json": {
       "model_id": "db5ddc212f0b4074bf6f5f76947400d1",
       "version_major": 2,
       "version_minor": 0
      },
      "text/plain": [
       "Validation: |                                                                  | 0/? [00:00<?, ?it/s]"
      ]
     },
     "metadata": {},
     "output_type": "display_data"
    },
    {
     "name": "stdout",
     "output_type": "stream",
     "text": [
      "WER on validate data: 0.4310593322123469\n",
      "First 5 predictions:  ['!�nhưng đôi sẽ anh đó thật là một vốt đề', '!�linh qua tới vợ chồng  ôngm đạom tì', '!�không hề hỏi gì bởi ôngm biết cóỏi', '!�đến thế cơ mà một đằng rung ông đ đã giược', '!�ấy loại hình ngh để thuật m mà nó dêu chú']\n",
      "First 5 references:  ['nhưng đối với anh đó thật là một vấn đề', 'liên quan tới vợ chồng ông đặng tuy', 'không hề hỏi han gì bởi ông biết có hỏi', 'đến thế cơ mà một đằng súng ống đạn dược', 'cái loại hình nghệ thuật mà nó dung chứa']\n"
     ]
    },
    {
     "data": {
      "application/vnd.jupyter.widget-view+json": {
       "model_id": "22d3767e655c4789b19909bc3fec72d2",
       "version_major": 2,
       "version_minor": 0
      },
      "text/plain": [
       "Validation: |                                                                  | 0/? [00:00<?, ?it/s]"
      ]
     },
     "metadata": {},
     "output_type": "display_data"
    },
    {
     "name": "stdout",
     "output_type": "stream",
     "text": [
      "WER on validate data: 0.4240932020177756\n",
      "First 5 predictions:  ['!�nhưng đôi phải anh nói thật là một v món đời', '!�linh qua tới vợ chồng  ôngm đ�ngtuy', '!�không không hề hỏi han gì bởi ông biết cóỏi', '!�đến thế cơ mà một đằng rung ôngng đã giượ', '!�ấy loại hình nghệ thuật mà nó dung chú']\n",
      "First 5 references:  ['nhưng đối với anh đó thật là một vấn đề', 'liên quan tới vợ chồng ông đặng tuy', 'không hề hỏi han gì bởi ông biết có hỏi', 'đến thế cơ mà một đằng súng ống đạn dược', 'cái loại hình nghệ thuật mà nó dung chứa']\n"
     ]
    },
    {
     "data": {
      "application/vnd.jupyter.widget-view+json": {
       "model_id": "fb3d67fb277e491a82afd33c194528f7",
       "version_major": 2,
       "version_minor": 0
      },
      "text/plain": [
       "Validation: |                                                                  | 0/? [00:00<?, ?it/s]"
      ]
     },
     "metadata": {},
     "output_type": "display_data"
    },
    {
     "name": "stdout",
     "output_type": "stream",
     "text": [
      "WER on validate data: 0.4218111938505885\n",
      "First 5 predictions:  ['!�nhưng đôi với anh đó thật là mộtốc đề', '!�linh qua tới vợồng ốngm đạong tì', '!�không không hỏi han gì bởi ông biết có h họ', '!�đến thế cơ mà một đằng xung ông đã giường', '!�ấy loại hình nghệ thuật màôi dung chú']\n",
      "First 5 references:  ['nhưng đối với anh đó thật là một vấn đề', 'liên quan tới vợ chồng ông đặng tuy', 'không hề hỏi han gì bởi ông biết có hỏi', 'đến thế cơ mà một đằng súng ống đạn dược', 'cái loại hình nghệ thuật mà nó dung chứa']\n"
     ]
    },
    {
     "data": {
      "application/vnd.jupyter.widget-view+json": {
       "model_id": "14bba4ac217247f286caafaa23ee00c2",
       "version_major": 2,
       "version_minor": 0
      },
      "text/plain": [
       "Validation: |                                                                  | 0/? [00:00<?, ?it/s]"
      ]
     },
     "metadata": {},
     "output_type": "display_data"
    },
    {
     "name": "stdout",
     "output_type": "stream",
     "text": [
      "WER on validate data: 0.42289214508767714\n",
      "First 5 predictions:  ['!�nhưng đối với anh nói thật là một phốc đề', '!�linên qua tới vợ chồng  ông đạong tuy', '!�không không hể hỏi han gì bởi ông biết có hỏi', '!�đến thế cơ mà một đằng xung ông đã dực', '!�ấy loại hình nghệ thuật mà tôi nhiêu chú']\n",
      "First 5 references:  ['nhưng đối với anh đó thật là một vấn đề', 'liên quan tới vợ chồng ông đặng tuy', 'không hề hỏi han gì bởi ông biết có hỏi', 'đến thế cơ mà một đằng súng ống đạn dược', 'cái loại hình nghệ thuật mà nó dung chứa']\n"
     ]
    },
    {
     "data": {
      "application/vnd.jupyter.widget-view+json": {
       "model_id": "8ac4cc49b7bb487d90d6edcd574a684c",
       "version_major": 2,
       "version_minor": 0
      },
      "text/plain": [
       "Validation: |                                                                  | 0/? [00:00<?, ?it/s]"
      ]
     },
     "metadata": {},
     "output_type": "display_data"
    },
    {
     "name": "stdout",
     "output_type": "stream",
     "text": [
      "WER on validate data: 0.4244535190968052\n",
      "First 5 predictions:  ['!�nhưng đốiía anh nói thật là một vấn đề', '!�linh qua tới vợ chồng  ông đạong tì', '!�không không hề hỏi han gì bởi ôngm biết có h họ', '!�đến thế cơ mà một đằng xung ông đã rượ', '!�ấy loại hình để thuật màôi dung chú']\n",
      "First 5 references:  ['nhưng đối với anh đó thật là một vấn đề', 'liên quan tới vợ chồng ông đặng tuy', 'không hề hỏi han gì bởi ông biết có hỏi', 'đến thế cơ mà một đằng súng ống đạn dược', 'cái loại hình nghệ thuật mà nó dung chứa']\n"
     ]
    },
    {
     "data": {
      "application/vnd.jupyter.widget-view+json": {
       "model_id": "d2b2bb15501b42beb76c591f3140435f",
       "version_major": 2,
       "version_minor": 0
      },
      "text/plain": [
       "Validation: |                                                                  | 0/? [00:00<?, ?it/s]"
      ]
     },
     "metadata": {},
     "output_type": "display_data"
    },
    {
     "name": "stdout",
     "output_type": "stream",
     "text": [
      "WER on validate data: 0.42121066538553925\n",
      "First 5 predictions:  ['!�nhưng đối với anh nói thật là một phốt đề', '!�linên qua tới vợ chồng u ông đạm thì', '!�không không hề hỏi han gì bởi ông biết có hỏi', '!�đến thế cơ mà một đằng xung ông đã dực', '!�ấy loại hình nghệ thuật mà dung ch']\n",
      "First 5 references:  ['nhưng đối với anh đó thật là một vấn đề', 'liên quan tới vợ chồng ông đặng tuy', 'không hề hỏi han gì bởi ông biết có hỏi', 'đến thế cơ mà một đằng súng ống đạn dược', 'cái loại hình nghệ thuật mà nó dung chứa']\n"
     ]
    },
    {
     "data": {
      "application/vnd.jupyter.widget-view+json": {
       "model_id": "b9a63a151ed04b09b1ff548681c042d2",
       "version_major": 2,
       "version_minor": 0
      },
      "text/plain": [
       "Validation: |                                                                  | 0/? [00:00<?, ?it/s]"
      ]
     },
     "metadata": {},
     "output_type": "display_data"
    },
    {
     "name": "stdout",
     "output_type": "stream",
     "text": [
      "WER on validate data: 0.42457362478981503\n",
      "First 5 predictions:  ['!�nhưng đôi phải anh nó thật là một vốt đề', '!�linên qua tới vợ chồng  ông đạong thì', '!�không không hề hỏi han gì bởiy ôngm biết có họ', '!�đến thế cơ mà một đằng rung ông đã rường', '!�hayấy loại hình nghệ thuật màtôi dung chú']\n",
      "First 5 references:  ['nhưng đối với anh đó thật là một vấn đề', 'liên quan tới vợ chồng ông đặng tuy', 'không hề hỏi han gì bởi ông biết có hỏi', 'đến thế cơ mà một đằng súng ống đạn dược', 'cái loại hình nghệ thuật mà nó dung chứa']\n"
     ]
    },
    {
     "data": {
      "application/vnd.jupyter.widget-view+json": {
       "model_id": "b1583769b82a43b4bc5ff8804767396f",
       "version_major": 2,
       "version_minor": 0
      },
      "text/plain": [
       "Validation: |                                                                  | 0/? [00:00<?, ?it/s]"
      ]
     },
     "metadata": {},
     "output_type": "display_data"
    },
    {
     "name": "stdout",
     "output_type": "stream",
     "text": [
      "WER on validate data: 0.43478260869565216\n",
      "First 5 predictions:  ['!�nhưng đối với anh nói thật là một phỗ đề', '!�linh qua tới vợ chồng  ông đặcng tì', '!�không không hề hỏi han gì bởi ông biết cóỏi', '!�đến thế cơ mà một đàn xung ông đã dực', '!�ấy loại hình nghể uật m màt nói dung chú']\n",
      "First 5 references:  ['nhưng đối với anh đó thật là một vấn đề', 'liên quan tới vợ chồng ông đặng tuy', 'không hề hỏi han gì bởi ông biết có hỏi', 'đến thế cơ mà một đằng súng ống đạn dược', 'cái loại hình nghệ thuật mà nó dung chứa']\n"
     ]
    },
    {
     "data": {
      "application/vnd.jupyter.widget-view+json": {
       "model_id": "ce9013822e1a469bb7b167daffd7de8c",
       "version_major": 2,
       "version_minor": 0
      },
      "text/plain": [
       "Validation: |                                                                  | 0/? [00:00<?, ?it/s]"
      ]
     },
     "metadata": {},
     "output_type": "display_data"
    },
    {
     "name": "stdout",
     "output_type": "stream",
     "text": [
      "WER on validate data: 0.4220514052366082\n",
      "First 5 predictions:  ['!�nhưng đôi với anh nó thật là một vốt đề', '!�linh qua tới vợ chồng ông  đ�ng tì', '!�không không hềỏi han gì bởi ông biết có hỏi', '!�đến thế cơ mà một đ rung đã dược', '!� loại h hơn nghệ thuật màtôi dung chú']\n",
      "First 5 references:  ['nhưng đối với anh đó thật là một vấn đề', 'liên quan tới vợ chồng ông đặng tuy', 'không hề hỏi han gì bởi ông biết có hỏi', 'đến thế cơ mà một đằng súng ống đạn dược', 'cái loại hình nghệ thuật mà nó dung chứa']\n"
     ]
    },
    {
     "data": {
      "application/vnd.jupyter.widget-view+json": {
       "model_id": "ac471a5056a64f03ad7fed36a894366a",
       "version_major": 2,
       "version_minor": 0
      },
      "text/plain": [
       "Validation: |                                                                  | 0/? [00:00<?, ?it/s]"
      ]
     },
     "metadata": {},
     "output_type": "display_data"
    },
    {
     "name": "stdout",
     "output_type": "stream",
     "text": [
      "WER on validate data: 0.4239730963247658\n",
      "First 5 predictions:  ['!�nhưng đôiối với anh nó thật là một vốc đề', '!�linh qua tới vợ chồng  ôngm đ�ng tuy', '!�không không hề hỏi han gì bởi ô biết có hỏi', '!�đến thế cơ mà một đàn rung ông đã dực', '!� loại hình nghệ thu màôi dung chứ']\n",
      "First 5 references:  ['nhưng đối với anh đó thật là một vấn đề', 'liên quan tới vợ chồng ông đặng tuy', 'không hề hỏi han gì bởi ông biết có hỏi', 'đến thế cơ mà một đằng súng ống đạn dược', 'cái loại hình nghệ thuật mà nó dung chứa']\n"
     ]
    },
    {
     "data": {
      "application/vnd.jupyter.widget-view+json": {
       "model_id": "b66ab4a2653c415da80800952e44f559",
       "version_major": 2,
       "version_minor": 0
      },
      "text/plain": [
       "Validation: |                                                                  | 0/? [00:00<?, ?it/s]"
      ]
     },
     "metadata": {},
     "output_type": "display_data"
    },
    {
     "name": "stdout",
     "output_type": "stream",
     "text": [
      "WER on validate data: 0.4179678116742734\n",
      "First 5 predictions:  ['!�nhưng đôi với anh nó thật là một vốc đề', '!�linh qua tới vợ chồng  ôngng đạong tuy', '!�không không hỏi han gì bởi ông biết cóỏi', '!�đến thế cơ mà một đằng xung ông đã rực', '!�ấy loại hình nghệ thuật màôi d chú']\n",
      "First 5 references:  ['nhưng đối với anh đó thật là một vấn đề', 'liên quan tới vợ chồng ông đặng tuy', 'không hề hỏi han gì bởi ông biết có hỏi', 'đến thế cơ mà một đằng súng ống đạn dược', 'cái loại hình nghệ thuật mà nó dung chứa']\n"
     ]
    },
    {
     "data": {
      "application/vnd.jupyter.widget-view+json": {
       "model_id": "a4917dd1860a4fa59f66679bff832259",
       "version_major": 2,
       "version_minor": 0
      },
      "text/plain": [
       "Validation: |                                                                  | 0/? [00:00<?, ?it/s]"
      ]
     },
     "metadata": {},
     "output_type": "display_data"
    },
    {
     "name": "stdout",
     "output_type": "stream",
     "text": [
      "WER on validate data: 0.41364400672591883\n",
      "First 5 predictions:  ['!�nhưng đối với anh đó thật là một v vẫn đề', '!�linên qua tới vợ chồng  ông đạong tuy', '!�không không hề hỏi han gì bởi ôngm biết có hỏi', '!�đến thế cơ mà một đằng xung ông rượ', '!�ấy loại hình ngh để thuật mà nói dung chú']\n",
      "First 5 references:  ['nhưng đối với anh đó thật là một vấn đề', 'liên quan tới vợ chồng ông đặng tuy', 'không hề hỏi han gì bởi ông biết có hỏi', 'đến thế cơ mà một đằng súng ống đạn dược', 'cái loại hình nghệ thuật mà nó dung chứa']\n"
     ]
    },
    {
     "data": {
      "application/vnd.jupyter.widget-view+json": {
       "model_id": "43d97ed5998b4fd58983f69501987cfb",
       "version_major": 2,
       "version_minor": 0
      },
      "text/plain": [
       "Validation: |                                                                  | 0/? [00:00<?, ?it/s]"
      ]
     },
     "metadata": {},
     "output_type": "display_data"
    },
    {
     "name": "stdout",
     "output_type": "stream",
     "text": [
      "WER on validate data: 0.4195291856834014\n",
      "First 5 predictions:  ['!�nhưng đối anh nó thật là một vúc đề', '!�linh qua tới vợ chồng ống đạong tuy', '!�không không hềỏi han gì bởi ông biết có hỏi', '!�đến thế cơ mà một đằng xung ông đã dực', '!�ấy loại hành ngh để thuật mà nói dung chú']\n",
      "First 5 references:  ['nhưng đối với anh đó thật là một vấn đề', 'liên quan tới vợ chồng ông đặng tuy', 'không hề hỏi han gì bởi ông biết có hỏi', 'đến thế cơ mà một đằng súng ống đạn dược', 'cái loại hình nghệ thuật mà nó dung chứa']\n"
     ]
    },
    {
     "data": {
      "application/vnd.jupyter.widget-view+json": {
       "model_id": "b2276061a7994850991b6081c208961f",
       "version_major": 2,
       "version_minor": 0
      },
      "text/plain": [
       "Validation: |                                                                  | 0/? [00:00<?, ?it/s]"
      ]
     },
     "metadata": {},
     "output_type": "display_data"
    },
    {
     "name": "stdout",
     "output_type": "stream",
     "text": [
      "WER on validate data: 0.41664664905116505\n",
      "First 5 predictions:  ['!�nhưng đối phải anh nó thật là một vong đề', '!�linh qua tới vợ chồng ông đạong tuy', '!�không hềỏi han gì bởi ông biết có hỏi', '!�đến thế cơ mà một đằng xung ông đã dực', '!�ấy loại hình nghệ thuật mà nói dung chú']\n",
      "First 5 references:  ['nhưng đối với anh đó thật là một vấn đề', 'liên quan tới vợ chồng ông đặng tuy', 'không hề hỏi han gì bởi ông biết có hỏi', 'đến thế cơ mà một đằng súng ống đạn dược', 'cái loại hình nghệ thuật mà nó dung chứa']\n"
     ]
    },
    {
     "data": {
      "application/vnd.jupyter.widget-view+json": {
       "model_id": "ac0f102abd6244748c071f3b3112d98c",
       "version_major": 2,
       "version_minor": 0
      },
      "text/plain": [
       "Validation: |                                                                  | 0/? [00:00<?, ?it/s]"
      ]
     },
     "metadata": {},
     "output_type": "display_data"
    },
    {
     "name": "stdout",
     "output_type": "stream",
     "text": [
      "WER on validate data: 0.41304347826086957\n",
      "First 5 predictions:  ['!�nhưng đối với anh nó thật là một vốt đề', '!�linh qua tới vợ chồng  ông đậng tuy', '!�không hỏi han gì bởi ông biết cóỏi', '!�đến thế cơ mà một đằng rung ông đã dường', '!�ấy loại hình nghệ th uật m màôi dung chú']\n",
      "First 5 references:  ['nhưng đối với anh đó thật là một vấn đề', 'liên quan tới vợ chồng ông đặng tuy', 'không hề hỏi han gì bởi ông biết có hỏi', 'đến thế cơ mà một đằng súng ống đạn dược', 'cái loại hình nghệ thuật mà nó dung chứa']\n"
     ]
    },
    {
     "data": {
      "application/vnd.jupyter.widget-view+json": {
       "model_id": "933df8e5fb5340a291f562c012431a78",
       "version_major": 2,
       "version_minor": 0
      },
      "text/plain": [
       "Validation: |                                                                  | 0/? [00:00<?, ?it/s]"
      ]
     },
     "metadata": {},
     "output_type": "display_data"
    },
    {
     "name": "stdout",
     "output_type": "stream",
     "text": [
      "WER on validate data: 0.4116022099447514\n",
      "First 5 predictions:  ['!�nhưng đối phải anh nó thật là một vấn đề', '!�linh qua tới vợ chồng  ông đậngtuy', '!�không hềỏi han gì bởi ông biết có hỏi', '!�đến thế cơ mà một đằng rung ông đã dược', '!�ấy loại hình nghệ thuật mà nóiung chú']\n",
      "First 5 references:  ['nhưng đối với anh đó thật là một vấn đề', 'liên quan tới vợ chồng ông đặng tuy', 'không hề hỏi han gì bởi ông biết có hỏi', 'đến thế cơ mà một đằng súng ống đạn dược', 'cái loại hình nghệ thuật mà nó dung chứa']\n"
     ]
    },
    {
     "data": {
      "application/vnd.jupyter.widget-view+json": {
       "model_id": "dd5dbc58dc00484285df9a1bba72920c",
       "version_major": 2,
       "version_minor": 0
      },
      "text/plain": [
       "Validation: |                                                                  | 0/? [00:00<?, ?it/s]"
      ]
     },
     "metadata": {},
     "output_type": "display_data"
    },
    {
     "name": "stdout",
     "output_type": "stream",
     "text": [
      "WER on validate data: 0.4116022099447514\n",
      "First 5 predictions:  ['!�nhưng đối sẽ anh nó thật là một vúc đề', '!�linên qua tới vợ chồng  ông đậng tì', '!�không hề hỏi han gì bởi ông biết có hỏi', '!�đến thế cơ mà một đằng rung ông đã dường', '!�ấy loại hình nghệ thuật m màôi dêu chú']\n",
      "First 5 references:  ['nhưng đối với anh đó thật là một vấn đề', 'liên quan tới vợ chồng ông đặng tuy', 'không hề hỏi han gì bởi ông biết có hỏi', 'đến thế cơ mà một đằng súng ống đạn dược', 'cái loại hình nghệ thuật mà nó dung chứa']\n"
     ]
    },
    {
     "data": {
      "application/vnd.jupyter.widget-view+json": {
       "model_id": "15f8334e46d44f3ba0314ac44bd9ad56",
       "version_major": 2,
       "version_minor": 0
      },
      "text/plain": [
       "Validation: |                                                                  | 0/? [00:00<?, ?it/s]"
      ]
     },
     "metadata": {},
     "output_type": "display_data"
    },
    {
     "name": "stdout",
     "output_type": "stream",
     "text": [
      "WER on validate data: 0.40956041316358394\n",
      "First 5 predictions:  ['!�nhưng đối phải anh nó thật là một vong đề', '!�linên qua tới vợ chồng ông đạong tuy', '!�không hề hỏi han gì bởi ông biết có hỏi', '!�đến thế cơ mà một đằng xung ông đã dực', '!�ấy loại hình nghệ thuật m màôi dung chú']\n",
      "First 5 references:  ['nhưng đối với anh đó thật là một vấn đề', 'liên quan tới vợ chồng ông đặng tuy', 'không hề hỏi han gì bởi ông biết có hỏi', 'đến thế cơ mà một đằng súng ống đạn dược', 'cái loại hình nghệ thuật mà nó dung chứa']\n"
     ]
    },
    {
     "data": {
      "application/vnd.jupyter.widget-view+json": {
       "model_id": "517f9424f7744945af3eced329e85dd0",
       "version_major": 2,
       "version_minor": 0
      },
      "text/plain": [
       "Validation: |                                                                  | 0/? [00:00<?, ?it/s]"
      ]
     },
     "metadata": {},
     "output_type": "display_data"
    },
    {
     "name": "stdout",
     "output_type": "stream",
     "text": [
      "WER on validate data: 0.40835935623348546\n",
      "First 5 predictions:  ['!�nhưng đối với anh nó thật là một vấn đề', '!�linên qua tới vợ chồng  ông đạong tuy', '!�không hề hỏi han gì bởi ông biết có hỏi', '!�đến ế cơ mà một đằng xung ông đã dược', '!�ấy loạithình nghệ thuật mà nói dung chú']\n",
      "First 5 references:  ['nhưng đối với anh đó thật là một vấn đề', 'liên quan tới vợ chồng ông đặng tuy', 'không hề hỏi han gì bởi ông biết có hỏi', 'đến thế cơ mà một đằng súng ống đạn dược', 'cái loại hình nghệ thuật mà nó dung chứa']\n"
     ]
    },
    {
     "data": {
      "application/vnd.jupyter.widget-view+json": {
       "model_id": "b12aeeff2ba34b6495fe96c0f3ecf6ad",
       "version_major": 2,
       "version_minor": 0
      },
      "text/plain": [
       "Validation: |                                                                  | 0/? [00:00<?, ?it/s]"
      ]
     },
     "metadata": {},
     "output_type": "display_data"
    },
    {
     "name": "stdout",
     "output_type": "stream",
     "text": [
      "WER on validate data: 0.40559692529425895\n",
      "First 5 predictions:  ['!�nhưng đối phải anh nó thật là một phấn đề', '!�linên qua tới vợ chồng  ông đạong tì', '!�không hề hỏi han gì bởi ung biết có hỏi', '!�đến thế cơ mà một đằng rung ông đã dược', '!�ấy loạithình nghệ thuật  màôi dung chú']\n",
      "First 5 references:  ['nhưng đối với anh đó thật là một vấn đề', 'liên quan tới vợ chồng ông đặng tuy', 'không hề hỏi han gì bởi ông biết có hỏi', 'đến thế cơ mà một đằng súng ống đạn dược', 'cái loại hình nghệ thuật mà nó dung chứa']\n"
     ]
    },
    {
     "data": {
      "application/vnd.jupyter.widget-view+json": {
       "model_id": "1227c2d146434f0fbdab035c5af600c6",
       "version_major": 2,
       "version_minor": 0
      },
      "text/plain": [
       "Validation: |                                                                  | 0/? [00:00<?, ?it/s]"
      ]
     },
     "metadata": {},
     "output_type": "display_data"
    },
    {
     "name": "stdout",
     "output_type": "stream",
     "text": [
      "WER on validate data: 0.4061974537593082\n",
      "First 5 predictions:  ['!�nhưng đối với anh nó thật là một vấn đề', '!�linên qua tới vợ chồng  ông đạong tuy', '!�không hề hỏi han gì bởi ông biết có hỏi', '!�đến thế cơ mà một đàn rung ông đã dược', '!�ấy loại hình nghệ thuật mà nói dung chú']\n",
      "First 5 references:  ['nhưng đối với anh đó thật là một vấn đề', 'liên quan tới vợ chồng ông đặng tuy', 'không hề hỏi han gì bởi ông biết có hỏi', 'đến thế cơ mà một đằng súng ống đạn dược', 'cái loại hình nghệ thuật mà nó dung chứa']\n"
     ]
    },
    {
     "data": {
      "application/vnd.jupyter.widget-view+json": {
       "model_id": "05385e56a0d34c9dbf27223556a0627d",
       "version_major": 2,
       "version_minor": 0
      },
      "text/plain": [
       "Validation: |                                                                  | 0/? [00:00<?, ?it/s]"
      ]
     },
     "metadata": {},
     "output_type": "display_data"
    },
    {
     "name": "stdout",
     "output_type": "stream",
     "text": [
      "WER on validate data: 0.40751861638241654\n",
      "First 5 predictions:  ['!�nhưng đối với anh nó thật là một phấn đề', '!�linên qua tới vợ chồng  ông đạonguy', '!�không hề hỏi han gì bởi ung biết có hỏi', '!�đến thế cơ mà một đằng xung ông đã dược', '!�ấy loại hình nghệ thuật mà nói dung chú']\n",
      "First 5 references:  ['nhưng đối với anh đó thật là một vấn đề', 'liên quan tới vợ chồng ông đặng tuy', 'không hề hỏi han gì bởi ông biết có hỏi', 'đến thế cơ mà một đằng súng ống đạn dược', 'cái loại hình nghệ thuật mà nó dung chứa']\n"
     ]
    },
    {
     "data": {
      "application/vnd.jupyter.widget-view+json": {
       "model_id": "5c7252cde0ff40edbac8bf6d91f09dc7",
       "version_major": 2,
       "version_minor": 0
      },
      "text/plain": [
       "Validation: |                                                                  | 0/? [00:00<?, ?it/s]"
      ]
     },
     "metadata": {},
     "output_type": "display_data"
    },
    {
     "name": "stdout",
     "output_type": "stream",
     "text": [
      "WER on validate data: 0.402354071582993\n",
      "First 5 predictions:  ['!�nhưng đối với anh nó thật là một phúc đề', '!�linên qua tới vợ chồng  ông đạongtuy', '!�không hề hỏi han gì bởi ông biết có hỏi', '!�đến thế cơ mà một đàn xung ông đã dược', '!�ấy loại hình nghệ thuật mà nói dung chú']\n",
      "First 5 references:  ['nhưng đối với anh đó thật là một vấn đề', 'liên quan tới vợ chồng ông đặng tuy', 'không hề hỏi han gì bởi ông biết có hỏi', 'đến thế cơ mà một đằng súng ống đạn dược', 'cái loại hình nghệ thuật mà nó dung chứa']\n"
     ]
    },
    {
     "data": {
      "application/vnd.jupyter.widget-view+json": {
       "model_id": "a84a2bd881de469d8a95de992ec0acbc",
       "version_major": 2,
       "version_minor": 0
      },
      "text/plain": [
       "Validation: |                                                                  | 0/? [00:00<?, ?it/s]"
      ]
     },
     "metadata": {},
     "output_type": "display_data"
    },
    {
     "name": "stdout",
     "output_type": "stream",
     "text": [
      "WER on validate data: 0.4001921691088158\n",
      "First 5 predictions:  ['!�nhưng đối với anh nó thật là một vúc đề', '!�linên qua tới vợ chồng  ông đạongtuy', '!�không hề hỏi han gì bởi ông biết cóỏi', '!�đến thế cơ mà một đằng rung ông đã dược', '!�ấy loạithình nghệ thuật mà nói dung chú']\n",
      "First 5 references:  ['nhưng đối với anh đó thật là một vấn đề', 'liên quan tới vợ chồng ông đặng tuy', 'không hề hỏi han gì bởi ông biết có hỏi', 'đến thế cơ mà một đằng súng ống đạn dược', 'cái loại hình nghệ thuật mà nó dung chứa']\n"
     ]
    },
    {
     "data": {
      "application/vnd.jupyter.widget-view+json": {
       "model_id": "0f1ecac0dcbb4902ba8a41ecf8aa4107",
       "version_major": 2,
       "version_minor": 0
      },
      "text/plain": [
       "Validation: |                                                                  | 0/? [00:00<?, ?it/s]"
      ]
     },
     "metadata": {},
     "output_type": "display_data"
    },
    {
     "name": "stdout",
     "output_type": "stream",
     "text": [
      "WER on validate data: 0.39863079509968774\n",
      "First 5 predictions:  ['!�nhưng đối với anh nó thật là một vấn đề', '!�linên qua tới vợ chồng ông đạongtì', '!�không hề hỏi han gì bởi ông biết có hỏi', '!�đến thế cơ mà một đằng rung ông đã dược', '!�ấy loại hình nghệ thuật mà nói dung chú']\n",
      "First 5 references:  ['nhưng đối với anh đó thật là một vấn đề', 'liên quan tới vợ chồng ông đặng tuy', 'không hề hỏi han gì bởi ông biết có hỏi', 'đến thế cơ mà một đằng súng ống đạn dược', 'cái loại hình nghệ thuật mà nó dung chứa']\n"
     ]
    }
   ],
   "source": [
    "\n",
    "\n",
    "# Initialize the data module\n",
    "datamodule = VietBud500DataModule(batch_size=24, processor_name=\"vinai/PhoWhisper-tiny\")\n",
    "datamodule.prepare_data()\n",
    "datamodule.setup()\n",
    "\n",
    "\n",
    "# Initialize the Lightning module\n",
    "lightning_module = PhoWhisperLightningModule(\n",
    "    model_name=\"vinai/PhoWhisper-tiny\", learning_rate=1e-4, warmup_steps=20\n",
    ")\n",
    "\n",
    "# print(\"Evaluate before training\", wer_ctc_evaluate(model, datamodule.test_dataloader()))\n",
    "\n",
    "\n",
    "# Initialize the custom callback\n",
    "lr_monitor = LearningRateMonitor(logging_interval='step')\n",
    "checkpoint_callback = ModelCheckpoint(\n",
    "    monitor='val_wer',\n",
    "    mode='min',\n",
    "    save_top_k=1,\n",
    "    filename='best-{val_wer:.4f}'\n",
    ")\n",
    "eval_callback = EvalCallback(processor=datamodule.processor)\n",
    "\n",
    "# Initialize the PyTorch Lightning Trainer\n",
    "trainer = pl.Trainer(\n",
    "    # max_steps=20000,\n",
    "    max_epochs=64,\n",
    "    accelerator=\"gpu\",\n",
    "    devices=1,\n",
    "    logger=True,\n",
    "    precision=\"bf16-mixed\",\n",
    "    callbacks=[lr_monitor, checkpoint_callback, eval_callback],\n",
    "    # accumulate_grad_batches=1,\n",
    ")\n",
    "\n",
    "# Train the model on the training set\n",
    "trainer.fit(lightning_module, datamodule=datamodule)\n",
    "\n",
    "# Test the model on the test set\n",
    "trainer.test(lightning_module, datamodule=datamodule, ckpt_path='best')"
   ]
  },
  {
   "cell_type": "code",
   "execution_count": null,
   "metadata": {},
   "outputs": [],
   "source": []
  }
 ],
 "metadata": {
  "kernelspec": {
   "display_name": "tbps",
   "language": "python",
   "name": "python3"
  },
  "language_info": {
   "codemirror_mode": {
    "name": "ipython",
    "version": 3
   },
   "file_extension": ".py",
   "mimetype": "text/x-python",
   "name": "python",
   "nbconvert_exporter": "python",
   "pygments_lexer": "ipython3",
   "version": "3.9.18"
  }
 },
 "nbformat": 4,
 "nbformat_minor": 4
}
